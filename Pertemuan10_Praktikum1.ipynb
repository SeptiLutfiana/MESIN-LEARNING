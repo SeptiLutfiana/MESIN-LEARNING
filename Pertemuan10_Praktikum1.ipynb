{
  "nbformat": 4,
  "nbformat_minor": 0,
  "metadata": {
    "colab": {
      "provenance": [],
      "gpuType": "T4",
      "authorship_tag": "ABX9TyNAj+ygZoutoUutAY26Szer",
      "include_colab_link": true
    },
    "kernelspec": {
      "name": "python3",
      "display_name": "Python 3"
    },
    "language_info": {
      "name": "python"
    },
    "accelerator": "GPU"
  },
  "cells": [
    {
      "cell_type": "markdown",
      "metadata": {
        "id": "view-in-github",
        "colab_type": "text"
      },
      "source": [
        "<a href=\"https://colab.research.google.com/github/SeptiLutfiana/MESIN-LEARNING/blob/main/Pertemuan10_Praktikum1.ipynb\" target=\"_parent\"><img src=\"https://colab.research.google.com/assets/colab-badge.svg\" alt=\"Open In Colab\"/></a>"
      ]
    },
    {
      "cell_type": "markdown",
      "source": [
        "RNN untuk Analisis Sentimen"
      ],
      "metadata": {
        "id": "b8dCRcyL7-ZK"
      }
    },
    {
      "cell_type": "code",
      "execution_count": 2,
      "metadata": {
        "id": "SQXjnHnK7XYt"
      },
      "outputs": [],
      "source": [
        "import numpy as np\n",
        "import tensorflow_datasets as tfds\n",
        "import tensorflow as tf\n",
        "\n",
        "tfds.disable_progress_bar()"
      ]
    },
    {
      "cell_type": "code",
      "source": [
        "import matplotlib.pyplot as plt\n",
        "\n",
        "def plot_graphs(history, metric):\n",
        "  plt.plot(history.history[metric])\n",
        "  plt.plot(history.history['val_'+metric], '')\n",
        "  plt.xlabel(\"Epochs\")\n",
        "  plt.ylabel(metric)\n",
        "  plt.legend([metric, 'val_'+metric])"
      ],
      "metadata": {
        "id": "501_wVGr8CaL"
      },
      "execution_count": 4,
      "outputs": []
    },
    {
      "cell_type": "code",
      "source": [
        "dataset, info = tfds.load('imdb_reviews', with_info=True,\n",
        "                          as_supervised=True)\n",
        "train_dataset, test_dataset = dataset['train'], dataset['test']\n",
        "\n",
        "train_dataset.element_spec"
      ],
      "metadata": {
        "colab": {
          "base_uri": "https://localhost:8080/"
        },
        "id": "wBZJWYPa9nsH",
        "outputId": "b151ca0d-0cf8-45b4-da54-1bf2320541d9"
      },
      "execution_count": 5,
      "outputs": [
        {
          "output_type": "stream",
          "name": "stdout",
          "text": [
            "Downloading and preparing dataset 80.23 MiB (download: 80.23 MiB, generated: Unknown size, total: 80.23 MiB) to /root/tensorflow_datasets/imdb_reviews/plain_text/1.0.0...\n",
            "Dataset imdb_reviews downloaded and prepared to /root/tensorflow_datasets/imdb_reviews/plain_text/1.0.0. Subsequent calls will reuse this data.\n"
          ]
        },
        {
          "output_type": "execute_result",
          "data": {
            "text/plain": [
              "(TensorSpec(shape=(), dtype=tf.string, name=None),\n",
              " TensorSpec(shape=(), dtype=tf.int64, name=None))"
            ]
          },
          "metadata": {},
          "execution_count": 5
        }
      ]
    },
    {
      "cell_type": "code",
      "source": [
        "for example, label in train_dataset.take(1):\n",
        "  print('text: ', example.numpy())\n",
        "  print('label: ', label.numpy())"
      ],
      "metadata": {
        "colab": {
          "base_uri": "https://localhost:8080/"
        },
        "id": "1TyzmScv9-fh",
        "outputId": "e19f31f4-8a80-4fd7-e4f0-ee3a8e0cab2a"
      },
      "execution_count": 6,
      "outputs": [
        {
          "output_type": "stream",
          "name": "stdout",
          "text": [
            "text:  b\"This was an absolutely terrible movie. Don't be lured in by Christopher Walken or Michael Ironside. Both are great actors, but this must simply be their worst role in history. Even their great acting could not redeem this movie's ridiculous storyline. This movie is an early nineties US propaganda piece. The most pathetic scenes were those when the Columbian rebels were making their cases for revolutions. Maria Conchita Alonso appeared phony, and her pseudo-love affair with Walken was nothing but a pathetic emotional plug in a movie that was devoid of any real meaning. I am disappointed that there are movies like this, ruining actor's like Christopher Walken's good name. I could barely sit through it.\"\n",
            "label:  0\n"
          ]
        }
      ]
    },
    {
      "cell_type": "markdown",
      "source": [
        "Berikutnya acak data untuk pelatihan dan membuat kumpulan pasangan (teks, label) ini:"
      ],
      "metadata": {
        "id": "mBJJ9ebQ-Cil"
      }
    },
    {
      "cell_type": "code",
      "source": [
        "BUFFER_SIZE = 10000\n",
        "BATCH_SIZE = 64\n",
        "\n",
        "train_dataset = train_dataset.shuffle(BUFFER_SIZE).batch(BATCH_SIZE).prefetch(tf.data.AUTOTUNE)\n",
        "test_dataset = test_dataset.batch(BATCH_SIZE).prefetch(tf.data.AUTOTUNE)\n",
        "\n",
        "for example, label in train_dataset.take(1):\n",
        "  print('texts: ', example.numpy()[:3])\n",
        "  print()\n",
        "  print('labels: ', label.numpy()[:3])\n"
      ],
      "metadata": {
        "colab": {
          "base_uri": "https://localhost:8080/"
        },
        "id": "n52dwrYR-DNk",
        "outputId": "1873712a-ac9b-4dfb-8c66-2f7bffae3abb"
      },
      "execution_count": 7,
      "outputs": [
        {
          "output_type": "stream",
          "name": "stdout",
          "text": [
            "texts:  [b'This movie is about human relationships. Charming, funny, and well written, with meaningful text. It seems that Morgan Freeman surely have fun at the set. Also good music. Paz Vega is a beautiful and smart woman. I really enjoy her acting. Woman like her are a good motivation to learn Spanish language. From the moment Morgan Freeman meets the cute Paz Vega the view is taken on an intimate journey with two strangers learning to care about where their lives are headed. 10 Items or Less is about zest of life. If you enjoy this film see also The Pursuit of Happiness with Will Smith and his son. Thats not a action film or a nude comedy. Its all about human relations.'\n",
            " b'I was always curious about this film because it is so tough to find, so when I stumbled upon it on Ebay I forked over the $10 and bought it, now I understand why its so rare! This film is SO bad, so terribly written and hopelessly low budget that the ending credits, which show all of the cut scenes where they fumbled their lines, are literally the movie\\'s highlight. The film is about a psychic (Pettyjohn, cast for one obvious reason, her topless scene) whom uses her powers with an experimental machine to pull objects from another dimension into this reality. When she pulls in some kind of box like object the military nonchalantly throws it into the open back of a truck with one soldier to guard it, and gee, what do you know? SURPRISE! A kid in a foam-rubber monster costume pops out, instantly kills the soldier with a scratch across his face, then escapes to a nearby city. But rather than deploy half the armed forces of the county to find it and protect the public those in charge just leave it up to Pettyjohn and Ray to find it on their own, but no matter, this movie blows all its credibility LONG before then. This barely escapes being voted a 1 by me only because of unintentional laughs, somebody needs to alert the producers of \"Mystery Science Theater 3000\" if they don\\'t know about it already! 2 out 10, really, REALLY bad!'\n",
            " b'Poor performances by Sinatra, Martin and Hyer. Grossly underdeveloped supporting characters. Annoying talky with no real plot. Ending leaves you flatter than a pancake, with more loose ends than you could tie up in four sequels (that is, if you even cared about these wooden characters). MacLaine is the only real asset. That penultimate sequence in which the \"Chicago hood\" searches for the Sinatra character is laughable. The music in that sequence also is poor. And in the final scene when Martin\\'s character removes his hat for the woman he called a \"pig,\" almost made me go outside and find a stone to throw through my television screen.']\n",
            "\n",
            "labels:  [1 0 0]\n"
          ]
        }
      ]
    },
    {
      "cell_type": "markdown",
      "source": [
        "**Buat Teks Encoder**"
      ],
      "metadata": {
        "id": "J-Ol6tNe-IlI"
      }
    },
    {
      "cell_type": "markdown",
      "source": [
        "Teks mentah yang dimuat oleh tfds perlu diproses sebelum dapat digunakan dalam model. Cara termudah memproses teks untuk pelatihan adalah menggunakan lapisan TextVectorization. Lapisan ini memiliki banyak kemampuan, namun pada tutorial ini menggunakan perilaku default. Buat lapisan tersebut, dan teruskan teks kumpulan data ke metode .adapt lapisan:"
      ],
      "metadata": {
        "id": "97Ve9Ekh-RqU"
      }
    },
    {
      "cell_type": "code",
      "source": [
        "VOCAB_SIZE = 1000\n",
        "encoder = tf.keras.layers.TextVectorization(\n",
        "    max_tokens=VOCAB_SIZE)\n",
        "encoder.adapt(train_dataset.map(lambda text, label: text))"
      ],
      "metadata": {
        "id": "u7ShVrmb-IPK"
      },
      "execution_count": 8,
      "outputs": []
    },
    {
      "cell_type": "markdown",
      "source": [
        "Metode .adapt mengatur kosakata lapisan. 20 token pertama dapat dilihat dengan kode berikut. Setelah padding dan token yang tidak diketahui, mereka diurutkan berdasarkan frekuensi:"
      ],
      "metadata": {
        "id": "_gMkYo2i-lv_"
      }
    },
    {
      "cell_type": "code",
      "source": [
        "vocab=np.array(encoder.get_vocabulary())\n",
        "vocab[:20]"
      ],
      "metadata": {
        "colab": {
          "base_uri": "https://localhost:8080/"
        },
        "id": "bpe_bYct-mTA",
        "outputId": "50004566-ce25-4455-e7c6-7102a08dbf18"
      },
      "execution_count": 10,
      "outputs": [
        {
          "output_type": "execute_result",
          "data": {
            "text/plain": [
              "array(['', '[UNK]', 'the', 'and', 'a', 'of', 'to', 'is', 'in', 'it', 'i',\n",
              "       'this', 'that', 'br', 'was', 'as', 'for', 'with', 'movie', 'but'],\n",
              "      dtype='<U14')"
            ]
          },
          "metadata": {},
          "execution_count": 10
        }
      ]
    },
    {
      "cell_type": "markdown",
      "source": [
        "Setelah kosakata diatur, lapisan dapat mengkodekan teks ke dalam indeks. Tensor indeks diberi bantalan 0 ke urutan terpanjang dalam batch (kecuali jika Anda menetapkan output_sequence_length tetap):"
      ],
      "metadata": {
        "id": "byaVFnk9-wao"
      }
    },
    {
      "cell_type": "code",
      "source": [
        "encoded_example=encoder(example)[:3].numpy()\n",
        "encoded_example"
      ],
      "metadata": {
        "colab": {
          "base_uri": "https://localhost:8080/"
        },
        "id": "79gt57fl-xhz",
        "outputId": "3381b9a7-2f52-438c-a801-62c23ba2dd11"
      },
      "execution_count": 12,
      "outputs": [
        {
          "output_type": "execute_result",
          "data": {
            "text/plain": [
              "array([[ 11,  18,   7, ...,   0,   0,   0],\n",
              "       [ 10,  14, 203, ...,   0,   0,   0],\n",
              "       [330, 347,  33, ...,   0,   0,   0]])"
            ]
          },
          "metadata": {},
          "execution_count": 12
        }
      ]
    },
    {
      "cell_type": "code",
      "source": [
        "for n in range(3):\n",
        "  print(\"Original: \", example[n].numpy())\n",
        "  print(\"Round-trip: \", \" \".join(vocab[encoded_example[n]]))\n",
        "  print()"
      ],
      "metadata": {
        "colab": {
          "base_uri": "https://localhost:8080/"
        },
        "id": "r__EcDvI-2lK",
        "outputId": "4f30b1f0-9b6a-48f6-daa3-ab97a52b814f"
      },
      "execution_count": 13,
      "outputs": [
        {
          "output_type": "stream",
          "name": "stdout",
          "text": [
            "Original:  b'This movie is about human relationships. Charming, funny, and well written, with meaningful text. It seems that Morgan Freeman surely have fun at the set. Also good music. Paz Vega is a beautiful and smart woman. I really enjoy her acting. Woman like her are a good motivation to learn Spanish language. From the moment Morgan Freeman meets the cute Paz Vega the view is taken on an intimate journey with two strangers learning to care about where their lives are headed. 10 Items or Less is about zest of life. If you enjoy this film see also The Pursuit of Happiness with Will Smith and his son. Thats not a action film or a nude comedy. Its all about human relations.'\n",
            "Round-trip:  this movie is about human [UNK] [UNK] funny and well written with [UNK] [UNK] it seems that [UNK] [UNK] [UNK] have fun at the set also good music [UNK] [UNK] is a beautiful and [UNK] woman i really enjoy her acting woman like her are a good [UNK] to learn [UNK] [UNK] from the moment [UNK] [UNK] meets the [UNK] [UNK] [UNK] the view is taken on an [UNK] [UNK] with two [UNK] [UNK] to care about where their lives are [UNK] 10 [UNK] or less is about [UNK] of life if you enjoy this film see also the [UNK] of [UNK] with will [UNK] and his son thats not a action film or a [UNK] comedy its all about human [UNK]                                                                                                                                                                                                                                                                                                                                                                                                                                                                                                                                                                                \n",
            "\n",
            "Original:  b'I was always curious about this film because it is so tough to find, so when I stumbled upon it on Ebay I forked over the $10 and bought it, now I understand why its so rare! This film is SO bad, so terribly written and hopelessly low budget that the ending credits, which show all of the cut scenes where they fumbled their lines, are literally the movie\\'s highlight. The film is about a psychic (Pettyjohn, cast for one obvious reason, her topless scene) whom uses her powers with an experimental machine to pull objects from another dimension into this reality. When she pulls in some kind of box like object the military nonchalantly throws it into the open back of a truck with one soldier to guard it, and gee, what do you know? SURPRISE! A kid in a foam-rubber monster costume pops out, instantly kills the soldier with a scratch across his face, then escapes to a nearby city. But rather than deploy half the armed forces of the county to find it and protect the public those in charge just leave it up to Pettyjohn and Ray to find it on their own, but no matter, this movie blows all its credibility LONG before then. This barely escapes being voted a 1 by me only because of unintentional laughs, somebody needs to alert the producers of \"Mystery Science Theater 3000\" if they don\\'t know about it already! 2 out 10, really, REALLY bad!'\n",
            "Round-trip:  i was always [UNK] about this film because it is so [UNK] to find so when i [UNK] upon it on [UNK] i [UNK] over the 10 and [UNK] it now i understand why its so [UNK] this film is so bad so [UNK] written and [UNK] low budget that the ending credits which show all of the cut scenes where they [UNK] their lines are [UNK] the movies [UNK] the film is about a [UNK] [UNK] cast for one obvious reason her [UNK] scene whom [UNK] her [UNK] with an [UNK] [UNK] to [UNK] [UNK] from another [UNK] into this reality when she [UNK] in some kind of [UNK] like [UNK] the [UNK] [UNK] [UNK] it into the open back of a [UNK] with one [UNK] to [UNK] it and [UNK] what do you know surprise a kid in a [UNK] monster [UNK] [UNK] out [UNK] [UNK] the [UNK] with a [UNK] across his face then [UNK] to a [UNK] city but rather than [UNK] half the [UNK] [UNK] of the [UNK] to find it and [UNK] the [UNK] those in [UNK] just leave it up to [UNK] and [UNK] to find it on their own but no matter this movie [UNK] all its [UNK] long before then this [UNK] [UNK] being [UNK] a 1 by me only because of [UNK] laughs [UNK] needs to [UNK] the [UNK] of mystery [UNK] theater [UNK] if they dont know about it already 2 out 10 really really bad                                                                                                                                                                                                                                                                                                                                                                                                                                                   \n",
            "\n",
            "Original:  b'Poor performances by Sinatra, Martin and Hyer. Grossly underdeveloped supporting characters. Annoying talky with no real plot. Ending leaves you flatter than a pancake, with more loose ends than you could tie up in four sequels (that is, if you even cared about these wooden characters). MacLaine is the only real asset. That penultimate sequence in which the \"Chicago hood\" searches for the Sinatra character is laughable. The music in that sequence also is poor. And in the final scene when Martin\\'s character removes his hat for the woman he called a \"pig,\" almost made me go outside and find a stone to throw through my television screen.'\n",
            "Round-trip:  poor performances by [UNK] [UNK] and [UNK] [UNK] [UNK] supporting characters annoying [UNK] with no real plot ending leaves you [UNK] than a [UNK] with more [UNK] ends than you could [UNK] up in four [UNK] that is if you even [UNK] about these [UNK] characters [UNK] is the only real [UNK] that [UNK] sequence in which the [UNK] [UNK] [UNK] for the [UNK] character is [UNK] the music in that sequence also is poor and in the final scene when [UNK] character [UNK] his [UNK] for the woman he called a [UNK] almost made me go outside and find a [UNK] to [UNK] through my television screen                                                                                                                                                                                                                                                                                                                                                                                                                                                                                                                                                                                              \n",
            "\n"
          ]
        }
      ]
    },
    {
      "cell_type": "markdown",
      "source": [
        "**Buat Model**"
      ],
      "metadata": {
        "id": "ZPMay7yL-9ce"
      }
    },
    {
      "cell_type": "code",
      "source": [
        "model = tf.keras.Sequential([\n",
        "    encoder,\n",
        "    tf.keras.layers.Embedding(\n",
        "        input_dim=len(encoder.get_vocabulary()),\n",
        "        output_dim=64,\n",
        "        # Use masking to handle the variable sequence lengths\n",
        "        mask_zero=True),\n",
        "    tf.keras.layers.Bidirectional(tf.keras.layers.LSTM(64)),\n",
        "    tf.keras.layers.Dense(64, activation='relu'),\n",
        "    tf.keras.layers.Dense(1)\n",
        "])"
      ],
      "metadata": {
        "id": "QL2L_nZP-_VX"
      },
      "execution_count": 14,
      "outputs": []
    },
    {
      "cell_type": "code",
      "source": [
        "print([layer.supports_masking for layer in model.layers])"
      ],
      "metadata": {
        "colab": {
          "base_uri": "https://localhost:8080/"
        },
        "id": "99gDb0jX_Rko",
        "outputId": "821ebc16-4874-44d1-8e3f-71daeef48003"
      },
      "execution_count": 16,
      "outputs": [
        {
          "output_type": "stream",
          "name": "stdout",
          "text": [
            "[False, True, True, True, True]\n"
          ]
        }
      ]
    },
    {
      "cell_type": "code",
      "source": [
        "# predict on a sample text without padding.\n",
        "\n",
        "sample_text = ('The movie was cool. The animation and the graphics '\n",
        "               'were out of this world. I would recommend this movie.')\n",
        "predictions = model.predict(np.array([sample_text]))\n",
        "print(predictions[0])"
      ],
      "metadata": {
        "colab": {
          "base_uri": "https://localhost:8080/"
        },
        "id": "JHmK_pe9_skG",
        "outputId": "d86884c8-5858-4c62-a322-3bdac31b1cc9"
      },
      "execution_count": 17,
      "outputs": [
        {
          "output_type": "stream",
          "name": "stdout",
          "text": [
            "1/1 [==============================] - 8s 8s/step\n",
            "[-0.02723554]\n"
          ]
        }
      ]
    },
    {
      "cell_type": "code",
      "source": [
        "# predict on a sample text without padding.\n",
        "\n",
        "sample_text = ('The movie was cool. The animation and the graphics '\n",
        "               'were out of this world. I would recommend this movie.')\n",
        "predictions = model.predict(np.array([sample_text]))\n",
        "print(predictions[0])"
      ],
      "metadata": {
        "colab": {
          "base_uri": "https://localhost:8080/"
        },
        "id": "33h1qfTf_8ML",
        "outputId": "4de6a454-3b8e-4975-d4fc-356d4f59be22"
      },
      "execution_count": 18,
      "outputs": [
        {
          "output_type": "stream",
          "name": "stdout",
          "text": [
            "1/1 [==============================] - 0s 20ms/step\n",
            "[-0.02723554]\n"
          ]
        }
      ]
    },
    {
      "cell_type": "code",
      "source": [
        "# predict on a sample text with padding\n",
        "\n",
        "padding = \"the \" * 2000\n",
        "predictions = model.predict(np.array([sample_text, padding]))\n",
        "print(predictions[0])"
      ],
      "metadata": {
        "colab": {
          "base_uri": "https://localhost:8080/"
        },
        "id": "JJebUwAU__fa",
        "outputId": "51717fc4-2ea8-46d7-db4c-48076f6c6577"
      },
      "execution_count": 19,
      "outputs": [
        {
          "output_type": "stream",
          "name": "stdout",
          "text": [
            "1/1 [==============================] - 0s 83ms/step\n",
            "[-0.02723554]\n"
          ]
        }
      ]
    },
    {
      "cell_type": "code",
      "source": [
        "model.compile(loss=tf.keras.losses.BinaryCrossentropy(from_logits=True),\n",
        "              optimizer=tf.keras.optimizers.Adam(1e-4),\n",
        "              metrics=['accuracy'])"
      ],
      "metadata": {
        "id": "Q_NLnKg2ACP8"
      },
      "execution_count": 20,
      "outputs": []
    },
    {
      "cell_type": "markdown",
      "source": [
        "**Train Model**"
      ],
      "metadata": {
        "id": "7Ac6ve1KAGHN"
      }
    },
    {
      "cell_type": "code",
      "source": [
        "history = model.fit(train_dataset, epochs=10,\n",
        "                    validation_data=test_dataset,\n",
        "                    validation_steps=30)"
      ],
      "metadata": {
        "colab": {
          "base_uri": "https://localhost:8080/"
        },
        "id": "I4d79mF0AIlF",
        "outputId": "af2f3b88-6c4f-4a52-d88d-7720c6818f17"
      },
      "execution_count": 21,
      "outputs": [
        {
          "output_type": "stream",
          "name": "stdout",
          "text": [
            "Epoch 1/10\n",
            "391/391 [==============================] - 51s 107ms/step - loss: 0.6430 - accuracy: 0.5642 - val_loss: 0.4784 - val_accuracy: 0.7651\n",
            "Epoch 2/10\n",
            "391/391 [==============================] - 29s 73ms/step - loss: 0.4725 - accuracy: 0.7565 - val_loss: 0.4126 - val_accuracy: 0.8109\n",
            "Epoch 3/10\n",
            "391/391 [==============================] - 25s 64ms/step - loss: 0.3767 - accuracy: 0.8307 - val_loss: 0.3627 - val_accuracy: 0.8391\n",
            "Epoch 4/10\n",
            "391/391 [==============================] - 24s 62ms/step - loss: 0.3388 - accuracy: 0.8526 - val_loss: 0.3473 - val_accuracy: 0.8396\n",
            "Epoch 5/10\n",
            "391/391 [==============================] - 24s 61ms/step - loss: 0.3228 - accuracy: 0.8618 - val_loss: 0.3387 - val_accuracy: 0.8396\n",
            "Epoch 6/10\n",
            "391/391 [==============================] - 24s 62ms/step - loss: 0.3114 - accuracy: 0.8661 - val_loss: 0.3284 - val_accuracy: 0.8578\n",
            "Epoch 7/10\n",
            "391/391 [==============================] - 23s 59ms/step - loss: 0.3065 - accuracy: 0.8698 - val_loss: 0.3250 - val_accuracy: 0.8583\n",
            "Epoch 8/10\n",
            "391/391 [==============================] - 25s 64ms/step - loss: 0.3023 - accuracy: 0.8706 - val_loss: 0.3266 - val_accuracy: 0.8562\n",
            "Epoch 9/10\n",
            "391/391 [==============================] - 25s 63ms/step - loss: 0.3007 - accuracy: 0.8725 - val_loss: 0.3238 - val_accuracy: 0.8562\n",
            "Epoch 10/10\n",
            "391/391 [==============================] - 25s 63ms/step - loss: 0.2972 - accuracy: 0.8734 - val_loss: 0.3243 - val_accuracy: 0.8542\n"
          ]
        }
      ]
    },
    {
      "cell_type": "code",
      "source": [
        "test_loss, test_acc = model.evaluate(test_dataset)\n",
        "\n",
        "print('Test Loss:', test_loss)\n",
        "print('Test Accuracy:', test_acc)"
      ],
      "metadata": {
        "colab": {
          "base_uri": "https://localhost:8080/"
        },
        "id": "JF8HJe-fCSIa",
        "outputId": "1c90d470-2a6b-4b3f-b953-9a7440117a2a"
      },
      "execution_count": 22,
      "outputs": [
        {
          "output_type": "stream",
          "name": "stdout",
          "text": [
            "391/391 [==============================] - 14s 35ms/step - loss: 0.3175 - accuracy: 0.8563\n",
            "Test Loss: 0.31748083233833313\n",
            "Test Accuracy: 0.8562800288200378\n"
          ]
        }
      ]
    },
    {
      "cell_type": "code",
      "source": [
        "plt.figure(figsize=(16, 8))\n",
        "plt.subplot(1, 2, 1)\n",
        "plot_graphs(history, 'accuracy')\n",
        "plt.ylim(None, 1)\n",
        "plt.subplot(1, 2, 2)\n",
        "plot_graphs(history, 'loss')\n",
        "plt.ylim(0, None)"
      ],
      "metadata": {
        "colab": {
          "base_uri": "https://localhost:8080/",
          "height": 718
        },
        "id": "jT60kBLCCX8t",
        "outputId": "27ac8bd0-1fc5-429a-e4d0-c0a52f9845d3"
      },
      "execution_count": 23,
      "outputs": [
        {
          "output_type": "execute_result",
          "data": {
            "text/plain": [
              "(0.0, 0.6603351399302483)"
            ]
          },
          "metadata": {},
          "execution_count": 23
        },
        {
          "output_type": "display_data",
          "data": {
            "text/plain": [
              "<Figure size 1600x800 with 2 Axes>"
            ],
            "image/png": "[encoded data removed]"
          },
          "metadata": {}
        }
      ]
    },
    {
      "cell_type": "code",
      "source": [
        "sample_text = ('The movie was cool. The animation and the graphics '\n",
        "'were out of this world. I would recommend this movie.')\n",
        "predictions = model.predict(np.array([sample_text]))"
      ],
      "metadata": {
        "colab": {
          "base_uri": "https://localhost:8080/"
        },
        "id": "4CHYnAWjCgSP",
        "outputId": "b7606770-233c-424b-ce6f-a19d422f699c"
      },
      "execution_count": 24,
      "outputs": [
        {
          "output_type": "stream",
          "name": "stdout",
          "text": [
            "1/1 [==============================] - 2s 2s/step\n"
          ]
        }
      ]
    },
    {
      "cell_type": "markdown",
      "source": [
        "Hal yang menarik dari penggunaan RNN dengan return_sequences=True adalah outputnya masih memiliki 3 axis, sama seperti inputnya, sehingga bisa diteruskan ke layer RNN lain, seperti ini:"
      ],
      "metadata": {
        "id": "qsZYqGKbCyWG"
      }
    },
    {
      "cell_type": "code",
      "source": [
        "model = tf.keras.Sequential([\n",
        "encoder,\n",
        "tf.keras.layers.Embedding(len(encoder.get_vocabulary()), 64, mask_zero=True),\n",
        "tf.keras.layers.Bidirectional(tf.keras.layers.LSTM(64, return_sequences=True)),\n",
        "tf.keras.layers.Bidirectional(tf.keras.layers.LSTM(32)),\n",
        "tf.keras.layers.Dense(64, activation='relu'),\n",
        "tf.keras.layers.Dropout(0.5),\n",
        "tf.keras.layers.Dense(1)\n",
        "])"
      ],
      "metadata": {
        "id": "ZWqJQHOKCy43"
      },
      "execution_count": 25,
      "outputs": []
    },
    {
      "cell_type": "code",
      "source": [
        "model.compile(loss=tf.keras.losses.BinaryCrossentropy(from_logits=True),\n",
        "optimizer=tf.keras.optimizers.Adam(1e-4),\n",
        "metrics=['accuracy'])"
      ],
      "metadata": {
        "id": "wu7rhNj8DaIv"
      },
      "execution_count": 26,
      "outputs": []
    },
    {
      "cell_type": "code",
      "source": [
        "history = model.fit(train_dataset, epochs=10,\n",
        "validation_data=test_dataset,\n",
        "validation_steps=30)"
      ],
      "metadata": {
        "colab": {
          "base_uri": "https://localhost:8080/"
        },
        "id": "9qjrLiP3DejQ",
        "outputId": "5d48c357-76cf-4d8e-fa6b-a2c253ae0c8c"
      },
      "execution_count": 27,
      "outputs": [
        {
          "output_type": "stream",
          "name": "stdout",
          "text": [
            "Epoch 1/10\n",
            "391/391 [==============================] - 77s 150ms/step - loss: 0.6339 - accuracy: 0.5717 - val_loss: 0.4466 - val_accuracy: 0.7979\n",
            "Epoch 2/10\n",
            "391/391 [==============================] - 47s 119ms/step - loss: 0.3964 - accuracy: 0.8244 - val_loss: 0.3698 - val_accuracy: 0.8318\n",
            "Epoch 3/10\n",
            "391/391 [==============================] - 46s 117ms/step - loss: 0.3430 - accuracy: 0.8532 - val_loss: 0.3440 - val_accuracy: 0.8448\n",
            "Epoch 4/10\n",
            "391/391 [==============================] - 45s 115ms/step - loss: 0.3317 - accuracy: 0.8586 - val_loss: 0.3366 - val_accuracy: 0.8417\n",
            "Epoch 5/10\n",
            "391/391 [==============================] - 48s 122ms/step - loss: 0.3178 - accuracy: 0.8638 - val_loss: 0.3290 - val_accuracy: 0.8578\n",
            "Epoch 6/10\n",
            "391/391 [==============================] - 45s 114ms/step - loss: 0.3135 - accuracy: 0.8638 - val_loss: 0.3278 - val_accuracy: 0.8568\n",
            "Epoch 7/10\n",
            "391/391 [==============================] - 45s 115ms/step - loss: 0.3072 - accuracy: 0.8677 - val_loss: 0.3326 - val_accuracy: 0.8396\n",
            "Epoch 8/10\n",
            "391/391 [==============================] - 47s 118ms/step - loss: 0.3031 - accuracy: 0.8699 - val_loss: 0.3186 - val_accuracy: 0.8594\n",
            "Epoch 9/10\n",
            "391/391 [==============================] - 47s 119ms/step - loss: 0.3023 - accuracy: 0.8700 - val_loss: 0.3209 - val_accuracy: 0.8604\n",
            "Epoch 10/10\n",
            "391/391 [==============================] - 47s 119ms/step - loss: 0.2974 - accuracy: 0.8724 - val_loss: 0.3242 - val_accuracy: 0.8604\n"
          ]
        }
      ]
    }
  ]
}
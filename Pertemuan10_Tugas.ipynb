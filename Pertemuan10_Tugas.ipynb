{
  "nbformat": 4,
  "nbformat_minor": 0,
  "metadata": {
    "colab": {
      "provenance": [],
      "gpuType": "T4",
      "authorship_tag": "ABX9TyOCqnc1MWjsY0cK/Z5XqweT",
      "include_colab_link": true
    },
    "kernelspec": {
      "name": "python3",
      "display_name": "Python 3"
    },
    "language_info": {
      "name": "python"
    },
    "accelerator": "GPU"
  },
  "cells": [
    {
      "cell_type": "markdown",
      "metadata": {
        "id": "view-in-github",
        "colab_type": "text"
      },
      "source": [
        "<a href=\"https://colab.research.google.com/github/SeptiLutfiana/MESIN-LEARNING/blob/main/Pertemuan10_Tugas.ipynb\" target=\"_parent\"><img src=\"https://colab.research.google.com/assets/colab-badge.svg\" alt=\"Open In Colab\"/></a>"
      ]
    },
    {
      "cell_type": "markdown",
      "source": [
        "- Nama : Septi Lutfiana\n",
        "- NIM: 2141720038\n",
        "- Kelas : 3H TI"
      ],
      "metadata": {
        "id": "aZdaxbM2p6Rs"
      }
    },
    {
      "cell_type": "code",
      "source": [
        "import tensorflow as tf\n",
        "\n",
        "# Buat model sederhana\n",
        "model = tf.keras.Sequential([\n",
        "    tf.keras.layers.Dense(128, activation='relu', input_shape=(784,)),\n",
        "    tf.keras.layers.Dense(64, activation='relu'),\n",
        "    tf.keras.layers.Dense(10, activation='softmax')\n",
        "])\n",
        "\n",
        "# Definisikan optimizer\n",
        "optimizer = tf.keras.optimizers.Adam()\n",
        "\n",
        "# Definisikan loss function\n",
        "loss_function = tf.keras.losses.SparseCategoricalCrossentropy()\n",
        "\n",
        "# Data latih (contoh sederhana)\n",
        "(x_train, y_train), _ = tf.keras.datasets.mnist.load_data()\n",
        "x_train = x_train.reshape(-1, 784).astype('float32') / 255.0\n",
        "y_train = y_train.astype('int64')\n",
        "\n",
        "# Training loop\n",
        "epochs = 5\n",
        "batch_size = 32\n",
        "\n",
        "for epoch in range(epochs):\n",
        "    print(f\"Epoch {epoch + 1}/{epochs}\")\n",
        "    for step in range(0, len(x_train), batch_size):\n",
        "        x_batch = x_train[step:step+batch_size]\n",
        "        y_batch = y_train[step:step+batch_size]\n",
        "\n",
        "        with tf.GradientTape() as tape:\n",
        "            # Lakukan prediksi menggunakan model\n",
        "            predictions = model(x_batch)\n",
        "\n",
        "            # Hitung loss\n",
        "            loss = loss_function(y_batch, predictions)\n",
        "\n",
        "        # Menghitung gradien loss terhadap parameter model\n",
        "        gradients = tape.gradient(loss, model.trainable_variables)\n",
        "\n",
        "        # Terapkan gradien menggunakan optimizer\n",
        "        optimizer.apply_gradients(zip(gradients, model.trainable_variables))\n",
        "\n",
        "        # Tampilkan statistik\n",
        "        if step % 1000 == 0:\n",
        "            print(f\"  Step {step}: Loss: {loss.numpy()}\")\n",
        "\n",
        "print(\"Training selesai.\")\n"
      ],
      "metadata": {
        "id": "IN5vAj6J7QYT",
        "outputId": "5eae9e4a-670e-4544-9092-669c4dc0afbe",
        "colab": {
          "base_uri": "https://localhost:8080/"
        }
      },
      "execution_count": 1,
      "outputs": [
        {
          "output_type": "stream",
          "name": "stdout",
          "text": [
            "Downloading data from https://storage.googleapis.com/tensorflow/tf-keras-datasets/mnist.npz\n",
            "11490434/11490434 [==============================] - 0s 0us/step\n",
            "Epoch 1/5\n"
          ]
        },
        {
          "output_type": "stream",
          "name": "stderr",
          "text": [
            "WARNING:tensorflow:5 out of the last 5 calls to <function _BaseOptimizer._update_step_xla at 0x7b02d04f8b80> triggered tf.function retracing. Tracing is expensive and the excessive number of tracings could be due to (1) creating @tf.function repeatedly in a loop, (2) passing tensors with different shapes, (3) passing Python objects instead of tensors. For (1), please define your @tf.function outside of the loop. For (2), @tf.function has reduce_retracing=True option that can avoid unnecessary retracing. For (3), please refer to https://www.tensorflow.org/guide/function#controlling_retracing and https://www.tensorflow.org/api_docs/python/tf/function for  more details.\n",
            "WARNING:tensorflow:6 out of the last 6 calls to <function _BaseOptimizer._update_step_xla at 0x7b02d04f8b80> triggered tf.function retracing. Tracing is expensive and the excessive number of tracings could be due to (1) creating @tf.function repeatedly in a loop, (2) passing tensors with different shapes, (3) passing Python objects instead of tensors. For (1), please define your @tf.function outside of the loop. For (2), @tf.function has reduce_retracing=True option that can avoid unnecessary retracing. For (3), please refer to https://www.tensorflow.org/guide/function#controlling_retracing and https://www.tensorflow.org/api_docs/python/tf/function for  more details.\n"
          ]
        },
        {
          "output_type": "stream",
          "name": "stdout",
          "text": [
            "  Step 0: Loss: 2.321664810180664\n",
            "  Step 4000: Loss: 0.2958593964576721\n",
            "  Step 8000: Loss: 0.3752005994319916\n",
            "  Step 12000: Loss: 0.24183955788612366\n",
            "  Step 16000: Loss: 0.34199175238609314\n",
            "  Step 20000: Loss: 0.36057186126708984\n",
            "  Step 24000: Loss: 0.15730951726436615\n",
            "  Step 28000: Loss: 0.16118204593658447\n",
            "  Step 32000: Loss: 0.44648265838623047\n",
            "  Step 36000: Loss: 0.16383205354213715\n",
            "  Step 40000: Loss: 0.12990128993988037\n",
            "  Step 44000: Loss: 0.048649996519088745\n",
            "  Step 48000: Loss: 0.21035094559192657\n",
            "  Step 52000: Loss: 0.07824259996414185\n",
            "  Step 56000: Loss: 0.26119527220726013\n",
            "Epoch 2/5\n",
            "  Step 0: Loss: 0.09588039666414261\n",
            "  Step 4000: Loss: 0.09213491529226303\n",
            "  Step 8000: Loss: 0.11504863947629929\n",
            "  Step 12000: Loss: 0.1907556653022766\n",
            "  Step 16000: Loss: 0.16367463767528534\n",
            "  Step 20000: Loss: 0.2031191885471344\n",
            "  Step 24000: Loss: 0.06976231932640076\n",
            "  Step 28000: Loss: 0.1232275664806366\n",
            "  Step 32000: Loss: 0.3188035488128662\n",
            "  Step 36000: Loss: 0.11038348078727722\n",
            "  Step 40000: Loss: 0.10149021446704865\n",
            "  Step 44000: Loss: 0.029072124511003494\n",
            "  Step 48000: Loss: 0.13375777006149292\n",
            "  Step 52000: Loss: 0.020426539704203606\n",
            "  Step 56000: Loss: 0.15060214698314667\n",
            "Epoch 3/5\n",
            "  Step 0: Loss: 0.03874655067920685\n",
            "  Step 4000: Loss: 0.04655426740646362\n",
            "  Step 8000: Loss: 0.059399887919425964\n",
            "  Step 12000: Loss: 0.13916470110416412\n",
            "  Step 16000: Loss: 0.08463513851165771\n",
            "  Step 20000: Loss: 0.1320023238658905\n",
            "  Step 24000: Loss: 0.026706896722316742\n",
            "  Step 28000: Loss: 0.06502329558134079\n",
            "  Step 32000: Loss: 0.12905454635620117\n",
            "  Step 36000: Loss: 0.05801364406943321\n",
            "  Step 40000: Loss: 0.04420408606529236\n",
            "  Step 44000: Loss: 0.0276947021484375\n",
            "  Step 48000: Loss: 0.054329052567481995\n",
            "  Step 52000: Loss: 0.019678054377436638\n",
            "  Step 56000: Loss: 0.07270710915327072\n",
            "Epoch 4/5\n",
            "  Step 0: Loss: 0.020518792793154716\n",
            "  Step 4000: Loss: 0.011180445551872253\n",
            "  Step 8000: Loss: 0.03568653017282486\n",
            "  Step 12000: Loss: 0.26151859760284424\n",
            "  Step 16000: Loss: 0.054454050958156586\n",
            "  Step 20000: Loss: 0.10641753673553467\n",
            "  Step 24000: Loss: 0.06338554620742798\n",
            "  Step 28000: Loss: 0.01898466795682907\n",
            "  Step 32000: Loss: 0.1747235357761383\n",
            "  Step 36000: Loss: 0.04847904294729233\n",
            "  Step 40000: Loss: 0.05907488986849785\n",
            "  Step 44000: Loss: 0.010215701535344124\n",
            "  Step 48000: Loss: 0.017006605863571167\n",
            "  Step 52000: Loss: 0.01133599504828453\n",
            "  Step 56000: Loss: 0.03397362679243088\n",
            "Epoch 5/5\n",
            "  Step 0: Loss: 0.012687094509601593\n",
            "  Step 4000: Loss: 0.07071824371814728\n",
            "  Step 8000: Loss: 0.02530783787369728\n",
            "  Step 12000: Loss: 0.049290407449007034\n",
            "  Step 16000: Loss: 0.04516443982720375\n",
            "  Step 20000: Loss: 0.14257532358169556\n",
            "  Step 24000: Loss: 0.05103132873773575\n",
            "  Step 28000: Loss: 0.00441326666623354\n",
            "  Step 32000: Loss: 0.10447382181882858\n",
            "  Step 36000: Loss: 0.0578203983604908\n",
            "  Step 40000: Loss: 0.02179197408258915\n",
            "  Step 44000: Loss: 0.011130930855870247\n",
            "  Step 48000: Loss: 0.014433584176003933\n",
            "  Step 52000: Loss: 0.015127109363675117\n",
            "  Step 56000: Loss: 0.005077549256384373\n",
            "Training selesai.\n"
          ]
        }
      ]
    },
    {
      "cell_type": "code",
      "source": [
        "import tensorflow as tf\n",
        "\n",
        "import matplotlib.pyplot as plt\n",
        "\n",
        "colors = plt.rcParams['axes.prop_cycle'].by_key()['color']"
      ],
      "metadata": {
        "id": "4i5jmfuk8wd_"
      },
      "execution_count": 2,
      "outputs": []
    },
    {
      "cell_type": "code",
      "source": [
        "# The actual line\n",
        "TRUE_W = 3.0\n",
        "TRUE_B = 2.0\n",
        "\n",
        "NUM_EXAMPLES = 201\n",
        "\n",
        "# A vector of random x values\n",
        "x = tf.linspace(-2,2, NUM_EXAMPLES)\n",
        "x = tf.cast(x, tf.float32)\n",
        "\n",
        "def f(x):\n",
        "  return x * TRUE_W + TRUE_B\n",
        "\n",
        "# Generate some noise\n",
        "noise = tf.random.normal(shape=[NUM_EXAMPLES])\n",
        "\n",
        "# Calculate y\n",
        "y = f(x) + noise"
      ],
      "metadata": {
        "id": "TUEEe0Nt83Lg"
      },
      "execution_count": 3,
      "outputs": []
    },
    {
      "cell_type": "code",
      "source": [
        "# Plot all the data\n",
        "plt.plot(x, y, '.')\n",
        "plt.show()"
      ],
      "metadata": {
        "id": "k8vLqlJE86FQ",
        "outputId": "38dc8199-2531-4ce6-ddab-92bcc2064c21",
        "colab": {
          "base_uri": "https://localhost:8080/",
          "height": 430
        }
      },
      "execution_count": 4,
      "outputs": [
        {
          "output_type": "display_data",
          "data": {
            "text/plain": [
              "<Figure size 640x480 with 1 Axes>"
            ],
            "image/png": "[encoded data removed]"
          },
          "metadata": {}
        }
      ]
    },
    {
      "cell_type": "code",
      "source": [
        "class MyModel(tf.Module):\n",
        "  def __init__(self, **kwargs):\n",
        "    super().__init__(**kwargs)\n",
        "    # Initialize the weights to `5.0` and the bias to `0.0`\n",
        "    # In practice, these should be randomly initialized\n",
        "    self.w = tf.Variable(5.0)\n",
        "    self.b = tf.Variable(0.0)\n",
        "\n",
        "  def __call__(self, x):\n",
        "    return self.w * x + self.b\n",
        "\n",
        "model = MyModel()\n",
        "\n",
        "# List the variables tf.modules's built-in variable aggregation.\n",
        "print(\"Variables:\", model.variables)\n",
        "\n",
        "# Verify the model works\n",
        "assert model(3.0).numpy() == 15.0"
      ],
      "metadata": {
        "id": "Q5So8_aa8_g4",
        "outputId": "06ea84bd-3be1-4f42-f9c3-347a0e250b09",
        "colab": {
          "base_uri": "https://localhost:8080/"
        }
      },
      "execution_count": 5,
      "outputs": [
        {
          "output_type": "stream",
          "name": "stdout",
          "text": [
            "Variables: (<tf.Variable 'Variable:0' shape=() dtype=float32, numpy=0.0>, <tf.Variable 'Variable:0' shape=() dtype=float32, numpy=5.0>)\n"
          ]
        }
      ]
    },
    {
      "cell_type": "code",
      "source": [
        "# This computes a single loss value for an entire batch\n",
        "def loss(target_y, predicted_y):\n",
        "  return tf.reduce_mean(tf.square(target_y - predicted_y))"
      ],
      "metadata": {
        "id": "GQhon5_C9FfH"
      },
      "execution_count": 6,
      "outputs": []
    },
    {
      "cell_type": "code",
      "source": [
        "plt.plot(x, y, '.', label=\"Data\")\n",
        "plt.plot(x, f(x), label=\"Ground truth\")\n",
        "plt.plot(x, model(x), label=\"Predictions\")\n",
        "plt.legend()\n",
        "plt.show()\n",
        "\n",
        "print(\"Current loss: %1.6f\" % loss(y, model(x)).numpy())"
      ],
      "metadata": {
        "id": "7ctL9w3n9Foi",
        "outputId": "4053410f-3d00-46e2-8af9-713bfd1d241b",
        "colab": {
          "base_uri": "https://localhost:8080/",
          "height": 447
        }
      },
      "execution_count": 7,
      "outputs": [
        {
          "output_type": "display_data",
          "data": {
            "text/plain": [
              "<Figure size 640x480 with 1 Axes>"
            ],
            "image/png": "[encoded data removed]"
          },
          "metadata": {}
        },
        {
          "output_type": "stream",
          "name": "stdout",
          "text": [
            "Current loss: 10.074668\n"
          ]
        }
      ]
    },
    {
      "cell_type": "code",
      "source": [
        "class CustomTraining(MyModel):\n",
        "  @tf.function\n",
        "  def train_step(self, inputs):\n",
        "    inputs, labels = inputs\n",
        "    with tf.GradientTape() as tape:\n",
        "      predictions = self(inputs, training=True)\n",
        "      loss = self.loss(labels, predictions)\n",
        "      grads = tape.gradient(loss, model.trainable_variables)\n",
        "      self.optimizer.apply_gradients(zip(grads, model.trainable_variables))\n",
        "      return {'loss': loss}\n",
        "\n"
      ],
      "metadata": {
        "id": "4QaCfVFp-PCT"
      },
      "execution_count": 8,
      "outputs": []
    },
    {
      "cell_type": "code",
      "source": [
        "model = CustomTraining(\n",
        "    vocab_size=len(ids_from_chars.get_vocabulary()),\n",
        "    embedding_dim=embedding_dim,\n",
        "    rnn_units=rnn_units)"
      ],
      "metadata": {
        "id": "uG9K88Iu-bFy",
        "outputId": "42ff8f65-0164-4ca2-ffdc-be1aeb9932d7",
        "colab": {
          "base_uri": "https://localhost:8080/",
          "height": 227
        }
      },
      "execution_count": 9,
      "outputs": [
        {
          "output_type": "error",
          "ename": "NameError",
          "evalue": "ignored",
          "traceback": [
            "\u001b[0;31m---------------------------------------------------------------------------\u001b[0m",
            "\u001b[0;31mNameError\u001b[0m                                 Traceback (most recent call last)",
            "\u001b[0;32m<ipython-input-9-e098689f2738>\u001b[0m in \u001b[0;36m<cell line: 1>\u001b[0;34m()\u001b[0m\n\u001b[1;32m      1\u001b[0m model = CustomTraining(\n\u001b[0;32m----> 2\u001b[0;31m     \u001b[0mvocab_size\u001b[0m\u001b[0;34m=\u001b[0m\u001b[0mlen\u001b[0m\u001b[0;34m(\u001b[0m\u001b[0mids_from_chars\u001b[0m\u001b[0;34m.\u001b[0m\u001b[0mget_vocabulary\u001b[0m\u001b[0;34m(\u001b[0m\u001b[0;34m)\u001b[0m\u001b[0;34m)\u001b[0m\u001b[0;34m,\u001b[0m\u001b[0;34m\u001b[0m\u001b[0;34m\u001b[0m\u001b[0m\n\u001b[0m\u001b[1;32m      3\u001b[0m     \u001b[0membedding_dim\u001b[0m\u001b[0;34m=\u001b[0m\u001b[0membedding_dim\u001b[0m\u001b[0;34m,\u001b[0m\u001b[0;34m\u001b[0m\u001b[0;34m\u001b[0m\u001b[0m\n\u001b[1;32m      4\u001b[0m     rnn_units=rnn_units)\n",
            "\u001b[0;31mNameError\u001b[0m: name 'ids_from_chars' is not defined"
          ]
        }
      ]
    }
  ]
}
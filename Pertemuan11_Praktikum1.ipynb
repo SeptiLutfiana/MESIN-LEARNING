{
  "nbformat": 4,
  "nbformat_minor": 0,
  "metadata": {
    "colab": {
      "provenance": [],
      "gpuType": "T4",
      "authorship_tag": "ABX9TyMFiIW/TyaIl68Hwn5WkeMp",
      "include_colab_link": true
    },
    "kernelspec": {
      "name": "python3",
      "display_name": "Python 3"
    },
    "language_info": {
      "name": "python"
    },
    "accelerator": "GPU"
  },
  "cells": [
    {
      "cell_type": "markdown",
      "metadata": {
        "id": "view-in-github",
        "colab_type": "text"
      },
      "source": [
        "<a href=\"https://colab.research.google.com/github/SeptiLutfiana/MESIN-LEARNING/blob/main/Pertemuan11_Praktikum1.ipynb\" target=\"_parent\"><img src=\"https://colab.research.google.com/assets/colab-badge.svg\" alt=\"Open In Colab\"/></a>"
      ]
    },
    {
      "cell_type": "markdown",
      "source": [
        "- Septi Lutfiana\n",
        "- 2141720038\n",
        "- 3H\n",
        "- Pertemuan 11 - Praktikum 1"
      ],
      "metadata": {
        "id": "MgTMDPFVJYVl"
      }
    },
    {
      "cell_type": "markdown",
      "source": [
        "Langkah 1 - Import Library"
      ],
      "metadata": {
        "id": "wK3ctw4AHwmX"
      }
    },
    {
      "cell_type": "code",
      "source": [
        "from google.colab import drive\n",
        "drive.mount('/content/drive')"
      ],
      "metadata": {
        "id": "HxmTkjkI1P50",
        "outputId": "862543ff-8ecd-4cb5-8c05-455e53beb97f",
        "colab": {
          "base_uri": "https://localhost:8080/"
        }
      },
      "execution_count": 1,
      "outputs": [
        {
          "output_type": "stream",
          "name": "stdout",
          "text": [
            "Mounted at /content/drive\n"
          ]
        }
      ]
    },
    {
      "cell_type": "code",
      "execution_count": 2,
      "metadata": {
        "id": "57ofONUBC5eR"
      },
      "outputs": [],
      "source": [
        "import tensorflow as tf\n",
        "from keras.preprocessing.image import ImageDataGenerator"
      ]
    },
    {
      "cell_type": "markdown",
      "source": [
        "Langkah 2 - Pra Pengolahan Data"
      ],
      "metadata": {
        "id": "tfD4xEpj14op"
      }
    },
    {
      "cell_type": "markdown",
      "source": [
        "Langkah 2.1. Pra Pengolahan Data Training"
      ],
      "metadata": {
        "id": "bkPrNVas18El"
      }
    },
    {
      "cell_type": "code",
      "source": [
        "from keras.preprocessing.image import ImageDataGenerator\n",
        "\n",
        "# Define the data generator\n",
        "train_datagen = ImageDataGenerator(rescale = 1./255,\n",
        "                                   shear_range = 0.2,\n",
        "                                   zoom_range = 0.2,\n",
        "                                   horizontal_flip = True)\n",
        "\n",
        "# Specify the correct path to your training set directory\n",
        "training_set = train_datagen.flow_from_directory('/content/drive/MyDrive/ML/dataset/dataset/training_set',\n",
        "                                                 target_size = (64, 64),\n",
        "                                                 batch_size = 32,\n",
        "                                                 class_mode = 'binary')\n"
      ],
      "metadata": {
        "id": "lqcmtK3M1Mxr",
        "outputId": "05bc5232-a918-41d7-ed5a-a0d2a18bf710",
        "colab": {
          "base_uri": "https://localhost:8080/"
        }
      },
      "execution_count": 4,
      "outputs": [
        {
          "output_type": "stream",
          "name": "stdout",
          "text": [
            "Found 8000 images belonging to 2 classes.\n"
          ]
        }
      ]
    },
    {
      "cell_type": "markdown",
      "source": [
        "Langkah 2.2. Pra Pengolahan Data Testing"
      ],
      "metadata": {
        "id": "s3hCG5R91_JL"
      }
    },
    {
      "cell_type": "code",
      "source": [
        "test_datagen = ImageDataGenerator(rescale = 1./255)\n",
        "test_set = test_datagen.flow_from_directory('/content/drive/MyDrive/ML/dataset/dataset/training_set',\n",
        "                                            target_size = (64, 64),\n",
        "                                            batch_size = 32,\n",
        "                                            class_mode = 'binary')"
      ],
      "metadata": {
        "id": "SMQkxX4Z1td_",
        "outputId": "d1b87baf-441b-4920-a21d-a5812297527a",
        "colab": {
          "base_uri": "https://localhost:8080/"
        }
      },
      "execution_count": 5,
      "outputs": [
        {
          "output_type": "stream",
          "name": "stdout",
          "text": [
            "Found 8000 images belonging to 2 classes.\n"
          ]
        }
      ]
    },
    {
      "cell_type": "markdown",
      "source": [
        "Langkah 3 - Pembuatan Model CNN"
      ],
      "metadata": {
        "id": "UREPdCaO2ByG"
      }
    },
    {
      "cell_type": "markdown",
      "source": [
        "Langkah 3.1.  - Inisiasi Model CNN"
      ],
      "metadata": {
        "id": "lPX7Zepe2CYR"
      }
    },
    {
      "cell_type": "code",
      "source": [
        "cnn = tf.keras.models.Sequential()"
      ],
      "metadata": {
        "id": "LcBj4kqi2EzK"
      },
      "execution_count": 6,
      "outputs": []
    },
    {
      "cell_type": "markdown",
      "source": [
        "Langkah 3.2. - Pembuatan Layer Konvolusi 1"
      ],
      "metadata": {
        "id": "5yObXITp2K-9"
      }
    },
    {
      "cell_type": "code",
      "source": [
        "cnn.add(tf.keras.layers.Conv2D(filters=32, kernel_size=3, activation='relu', input_shape=[64, 64, 3]))"
      ],
      "metadata": {
        "id": "N6Ot0xJ12Ndl"
      },
      "execution_count": 7,
      "outputs": []
    },
    {
      "cell_type": "markdown",
      "source": [
        "Langkah 3.3 - Pembuatan Layer Pooling 1"
      ],
      "metadata": {
        "id": "P1qcWrxU2QA2"
      }
    },
    {
      "cell_type": "code",
      "source": [
        "cnn.add(tf.keras.layers.MaxPool2D(pool_size=2, strides=2))"
      ],
      "metadata": {
        "id": "4aQxYZZ72Sew"
      },
      "execution_count": 8,
      "outputs": []
    },
    {
      "cell_type": "markdown",
      "source": [
        "Langkah 3.4 - Pembuatan Layer Konvolusi 2 dan Pooling 2"
      ],
      "metadata": {
        "id": "BZi6_ui12QKu"
      }
    },
    {
      "cell_type": "code",
      "source": [
        "cnn.add(tf.keras.layers.Conv2D(filters=32, kernel_size=3, activation='relu'))\n",
        "cnn.add(tf.keras.layers.MaxPool2D(pool_size=2, strides=2))"
      ],
      "metadata": {
        "id": "1yRtNq5t2WRV"
      },
      "execution_count": 9,
      "outputs": []
    },
    {
      "cell_type": "markdown",
      "source": [
        "Langkah 3.5 - Flattening"
      ],
      "metadata": {
        "id": "NFOtyUfo2Z7j"
      }
    },
    {
      "cell_type": "code",
      "source": [
        "cnn.add(tf.keras.layers.Flatten())"
      ],
      "metadata": {
        "id": "bldjMsOr2aZH"
      },
      "execution_count": 10,
      "outputs": []
    },
    {
      "cell_type": "markdown",
      "source": [
        "Langkah 3.6 - Fully Connected Layer 1 (Input)"
      ],
      "metadata": {
        "id": "iIJdQe4r2k9p"
      }
    },
    {
      "cell_type": "code",
      "source": [
        "cnn.add(tf.keras.layers.Dense(units=128, activation='relu'))"
      ],
      "metadata": {
        "id": "fZn1ky-q2lco"
      },
      "execution_count": 11,
      "outputs": []
    },
    {
      "cell_type": "markdown",
      "source": [
        "Langkah 3.7 - Fully Connected Layer 2 (Output)"
      ],
      "metadata": {
        "id": "S16y11z02oNd"
      }
    },
    {
      "cell_type": "code",
      "source": [
        "cnn.add(tf.keras.layers.Dense(units=1, activation='sigmoid'))"
      ],
      "metadata": {
        "id": "0Nktx5-C2oqF"
      },
      "execution_count": 12,
      "outputs": []
    },
    {
      "cell_type": "markdown",
      "source": [
        "Langkah 3.8 - Compile Model CNN"
      ],
      "metadata": {
        "id": "-Q-E3LfH2sLE"
      }
    },
    {
      "cell_type": "code",
      "source": [
        "cnn.compile(optimizer = 'adam', loss = 'binary_crossentropy', metrics = ['accuracy'])"
      ],
      "metadata": {
        "id": "HhfrBlPs2sn1"
      },
      "execution_count": 15,
      "outputs": []
    },
    {
      "cell_type": "markdown",
      "source": [
        "Langkah 4 - Fit CNN"
      ],
      "metadata": {
        "id": "A3Xe3VzV2yBY"
      }
    },
    {
      "cell_type": "code",
      "source": [
        "cnn.fit(x = training_set, validation_data = test_set, epochs = 25)"
      ],
      "metadata": {
        "id": "6Ket2QdM2ywv",
        "outputId": "590dd0ee-c038-4b2e-ac33-5d77de0198f8",
        "colab": {
          "base_uri": "https://localhost:8080/"
        }
      },
      "execution_count": 16,
      "outputs": [
        {
          "output_type": "stream",
          "name": "stdout",
          "text": [
            "Epoch 1/25\n",
            "250/250 [==============================] - 3077s 12s/step - loss: 0.6763 - accuracy: 0.5739 - val_loss: 0.6127 - val_accuracy: 0.6639\n",
            "Epoch 2/25\n",
            "250/250 [==============================] - 75s 300ms/step - loss: 0.6310 - accuracy: 0.6488 - val_loss: 0.6451 - val_accuracy: 0.6339\n",
            "Epoch 3/25\n",
            "250/250 [==============================] - 57s 227ms/step - loss: 0.5901 - accuracy: 0.6939 - val_loss: 0.5346 - val_accuracy: 0.7360\n",
            "Epoch 4/25\n",
            "250/250 [==============================] - 56s 225ms/step - loss: 0.5535 - accuracy: 0.7174 - val_loss: 0.5459 - val_accuracy: 0.7240\n",
            "Epoch 5/25\n",
            "250/250 [==============================] - 55s 221ms/step - loss: 0.5320 - accuracy: 0.7337 - val_loss: 0.5054 - val_accuracy: 0.7529\n",
            "Epoch 6/25\n",
            "250/250 [==============================] - 54s 218ms/step - loss: 0.5155 - accuracy: 0.7475 - val_loss: 0.4558 - val_accuracy: 0.7866\n",
            "Epoch 7/25\n",
            "250/250 [==============================] - 55s 220ms/step - loss: 0.4873 - accuracy: 0.7645 - val_loss: 0.4518 - val_accuracy: 0.7899\n",
            "Epoch 8/25\n",
            "250/250 [==============================] - 56s 224ms/step - loss: 0.4756 - accuracy: 0.7701 - val_loss: 0.4341 - val_accuracy: 0.7939\n",
            "Epoch 9/25\n",
            "250/250 [==============================] - 57s 227ms/step - loss: 0.4570 - accuracy: 0.7832 - val_loss: 0.4391 - val_accuracy: 0.7947\n",
            "Epoch 10/25\n",
            "250/250 [==============================] - 57s 230ms/step - loss: 0.4442 - accuracy: 0.7875 - val_loss: 0.4047 - val_accuracy: 0.8129\n",
            "Epoch 11/25\n",
            "250/250 [==============================] - 75s 301ms/step - loss: 0.4264 - accuracy: 0.8016 - val_loss: 0.3597 - val_accuracy: 0.8426\n",
            "Epoch 12/25\n",
            "250/250 [==============================] - 75s 300ms/step - loss: 0.4140 - accuracy: 0.8096 - val_loss: 0.3517 - val_accuracy: 0.8426\n",
            "Epoch 13/25\n",
            "250/250 [==============================] - 57s 230ms/step - loss: 0.3886 - accuracy: 0.8230 - val_loss: 0.3247 - val_accuracy: 0.8605\n",
            "Epoch 14/25\n",
            "250/250 [==============================] - 55s 222ms/step - loss: 0.3701 - accuracy: 0.8328 - val_loss: 0.3121 - val_accuracy: 0.8644\n",
            "Epoch 15/25\n",
            "250/250 [==============================] - 56s 222ms/step - loss: 0.3560 - accuracy: 0.8422 - val_loss: 0.3170 - val_accuracy: 0.8621\n",
            "Epoch 16/25\n",
            "250/250 [==============================] - 55s 220ms/step - loss: 0.3410 - accuracy: 0.8522 - val_loss: 0.2678 - val_accuracy: 0.8915\n",
            "Epoch 17/25\n",
            "250/250 [==============================] - 53s 214ms/step - loss: 0.3269 - accuracy: 0.8570 - val_loss: 0.2861 - val_accuracy: 0.8799\n",
            "Epoch 18/25\n",
            "250/250 [==============================] - 57s 227ms/step - loss: 0.3087 - accuracy: 0.8656 - val_loss: 0.2289 - val_accuracy: 0.9111\n",
            "Epoch 19/25\n",
            "250/250 [==============================] - 54s 217ms/step - loss: 0.2974 - accuracy: 0.8736 - val_loss: 0.2433 - val_accuracy: 0.8991\n",
            "Epoch 20/25\n",
            "250/250 [==============================] - 55s 221ms/step - loss: 0.2785 - accuracy: 0.8819 - val_loss: 0.1928 - val_accuracy: 0.9298\n",
            "Epoch 21/25\n",
            "250/250 [==============================] - 56s 225ms/step - loss: 0.2596 - accuracy: 0.8892 - val_loss: 0.2086 - val_accuracy: 0.9181\n",
            "Epoch 22/25\n",
            "250/250 [==============================] - 75s 301ms/step - loss: 0.2595 - accuracy: 0.8903 - val_loss: 0.1693 - val_accuracy: 0.9384\n",
            "Epoch 23/25\n",
            "250/250 [==============================] - 56s 222ms/step - loss: 0.2397 - accuracy: 0.9036 - val_loss: 0.1655 - val_accuracy: 0.9388\n",
            "Epoch 24/25\n",
            "250/250 [==============================] - 56s 226ms/step - loss: 0.2281 - accuracy: 0.9050 - val_loss: 0.2005 - val_accuracy: 0.9146\n",
            "Epoch 25/25\n",
            "250/250 [==============================] - 75s 301ms/step - loss: 0.2096 - accuracy: 0.9129 - val_loss: 0.1621 - val_accuracy: 0.9342\n"
          ]
        },
        {
          "output_type": "execute_result",
          "data": {
            "text/plain": [
              "<keras.src.callbacks.History at 0x7c835e61aa40>"
            ]
          },
          "metadata": {},
          "execution_count": 16
        }
      ]
    },
    {
      "cell_type": "markdown",
      "source": [
        "Langkah 5 - Prediksi dengan 1 Citra"
      ],
      "metadata": {
        "id": "EzahtchX204Z"
      }
    },
    {
      "cell_type": "code",
      "source": [
        "import numpy as np\n",
        "from keras.preprocessing import image\n",
        "test_image = image.load_img('/content/drive/MyDrive/ML/dataset/dataset/single_prediction/cat_or_dog_1.jpg', target_size = (64, 64))\n",
        "test_image = image.img_to_array(test_image)\n",
        "test_image = np.expand_dims(test_image, axis = 0)\n",
        "result = cnn.predict(test_image)\n",
        "training_set.class_indices\n",
        "if result[0][0] == 1:\n",
        "  prediction = 'dog'\n",
        "else:\n",
        "  prediction = 'cat'"
      ],
      "metadata": {
        "id": "WNNqvFzE22wf",
        "outputId": "a54184fb-75b1-4842-e2f6-64bd3bfd7580",
        "colab": {
          "base_uri": "https://localhost:8080/"
        }
      },
      "execution_count": 18,
      "outputs": [
        {
          "output_type": "stream",
          "name": "stdout",
          "text": [
            "1/1 [==============================] - 0s 141ms/step\n"
          ]
        }
      ]
    }
  ]
}
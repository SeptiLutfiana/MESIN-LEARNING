{
  "nbformat": 4,
  "nbformat_minor": 0,
  "metadata": {
    "colab": {
      "provenance": [],
      "mount_file_id": "1LqV4zWJidQArWv2pp5Wh7Mt-9QAkv2G0",
      "authorship_tag": "ABX9TyNrMRo8cAzMWL7fJ14VereJ",
      "include_colab_link": true
    },
    "kernelspec": {
      "name": "python3",
      "display_name": "Python 3"
    },
    "language_info": {
      "name": "python"
    }
  },
  "cells": [
    {
      "cell_type": "markdown",
      "metadata": {
        "id": "view-in-github",
        "colab_type": "text"
      },
      "source": [
        "<a href=\"https://colab.research.google.com/github/SeptiLutfiana/MESIN-LEARNING/blob/main/Pertemuan9_Praktikum4.ipynb\" target=\"_parent\"><img src=\"https://colab.research.google.com/assets/colab-badge.svg\" alt=\"Open In Colab\"/></a>"
      ]
    },
    {
      "cell_type": "markdown",
      "source": [
        "- Septi Lutfiana\n",
        "- 2141720038\n",
        "- 3H D-4 TI"
      ],
      "metadata": {
        "id": "Fzge0GO4ftgg"
      }
    },
    {
      "cell_type": "markdown",
      "source": [
        "# Pra Pengolahan Data"
      ],
      "metadata": {
        "id": "S7MNk3wpgRQh"
      }
    },
    {
      "cell_type": "markdown",
      "source": [
        "## Langkah 1 - Import Library"
      ],
      "metadata": {
        "id": "cZN1jdGDgU5N"
      }
    },
    {
      "cell_type": "code",
      "execution_count": 1,
      "metadata": {
        "id": "dsG8Evl2fo3w"
      },
      "outputs": [],
      "source": [
        "import numpy as np\n",
        "import pandas as pd\n",
        "import tensorflow as tf"
      ]
    },
    {
      "cell_type": "code",
      "source": [
        "\n",
        "from google.colab import drive\n",
        "drive.mount('/content/drive')"
      ],
      "metadata": {
        "colab": {
          "base_uri": "https://localhost:8080/"
        },
        "id": "t9Ha2JmhjTJr",
        "outputId": "817b3f4f-b5a4-4c94-aefe-785e3ea10646"
      },
      "execution_count": 3,
      "outputs": [
        {
          "output_type": "stream",
          "name": "stdout",
          "text": [
            "Drive already mounted at /content/drive; to attempt to forcibly remount, call drive.mount(\"/content/drive\", force_remount=True).\n"
          ]
        }
      ]
    },
    {
      "cell_type": "markdown",
      "source": [
        "# Langkah 2 - Load Data"
      ],
      "metadata": {
        "id": "VoXLZf_gi_fX"
      }
    },
    {
      "cell_type": "code",
      "source": [
        "dataset = pd.read_csv('/content/drive/MyDrive/ML/Churn_Modelling.csv')\n",
        "X = dataset.iloc[:, 3:-1].values\n",
        "y = dataset.iloc[:, -1].values"
      ],
      "metadata": {
        "id": "u3OvVzKmjA24"
      },
      "execution_count": 4,
      "outputs": []
    },
    {
      "cell_type": "code",
      "source": [
        "print(X)"
      ],
      "metadata": {
        "colab": {
          "base_uri": "https://localhost:8080/"
        },
        "id": "5Iko84-MjpcK",
        "outputId": "f843e07c-1d8f-4135-c459-84adcfb77389"
      },
      "execution_count": 5,
      "outputs": [
        {
          "output_type": "stream",
          "name": "stdout",
          "text": [
            "[[619 'France' 'Female' ... 1 1 101348.88]\n",
            " [608 'Spain' 'Female' ... 0 1 112542.58]\n",
            " [502 'France' 'Female' ... 1 0 113931.57]\n",
            " ...\n",
            " [709 'France' 'Female' ... 0 1 42085.58]\n",
            " [772 'Germany' 'Male' ... 1 0 92888.52]\n",
            " [792 'France' 'Female' ... 1 0 38190.78]]\n"
          ]
        }
      ]
    },
    {
      "cell_type": "markdown",
      "source": [
        "# Langkah 3 - Encoding Data Kategorikal"
      ],
      "metadata": {
        "id": "N9vyA7CWjsmw"
      }
    },
    {
      "cell_type": "code",
      "source": [
        "from sklearn.preprocessing import LabelEncoder\n",
        "le = LabelEncoder()\n",
        "X[:, 2] = le.fit_transform(X[:, 2])"
      ],
      "metadata": {
        "id": "-42d9oJljtcr"
      },
      "execution_count": 6,
      "outputs": []
    },
    {
      "cell_type": "markdown",
      "source": [
        "# Langkah 4 - Encoding Kolom \"Geography\" dengan One Hot Encoder"
      ],
      "metadata": {
        "id": "vNQ_E7uEjweB"
      }
    },
    {
      "cell_type": "code",
      "source": [
        "from sklearn.compose import ColumnTransformer\n",
        "from sklearn.preprocessing import OneHotEncoder\n",
        "ct = ColumnTransformer(transformers=[('encoder', OneHotEncoder(), [1])], remainder='passthrough')\n",
        "X = np.array(ct.fit_transform(X))"
      ],
      "metadata": {
        "id": "QbiHoZSjjxTu"
      },
      "execution_count": 7,
      "outputs": []
    },
    {
      "cell_type": "code",
      "source": [
        "print(X)"
      ],
      "metadata": {
        "colab": {
          "base_uri": "https://localhost:8080/"
        },
        "id": "qm-H-SmRj6Uw",
        "outputId": "6e34fd44-7caa-4340-8bdf-ee34936a7429"
      },
      "execution_count": 8,
      "outputs": [
        {
          "output_type": "stream",
          "name": "stdout",
          "text": [
            "[[1.0 0.0 0.0 ... 1 1 101348.88]\n",
            " [0.0 0.0 1.0 ... 0 1 112542.58]\n",
            " [1.0 0.0 0.0 ... 1 0 113931.57]\n",
            " ...\n",
            " [1.0 0.0 0.0 ... 0 1 42085.58]\n",
            " [0.0 1.0 0.0 ... 1 0 92888.52]\n",
            " [1.0 0.0 0.0 ... 1 0 38190.78]]\n"
          ]
        }
      ]
    },
    {
      "cell_type": "markdown",
      "source": [
        "# Langkah 5 - Split Data"
      ],
      "metadata": {
        "id": "5vCIrKGTj5aN"
      }
    },
    {
      "cell_type": "code",
      "source": [
        "from sklearn.model_selection import train_test_split\n",
        "X_train, X_test, y_train, y_test = train_test_split(X, y, test_size = 0.2, random_state = 0)"
      ],
      "metadata": {
        "id": "_pHXjTn_j_x1"
      },
      "execution_count": 9,
      "outputs": []
    },
    {
      "cell_type": "markdown",
      "source": [
        "# Langkah 6 - Scaling Fitur"
      ],
      "metadata": {
        "id": "ErLLOL3jkDN9"
      }
    },
    {
      "cell_type": "markdown",
      "source": [
        "# Membuat Model ANN"
      ],
      "metadata": {
        "id": "MQ0lGZvCkF-H"
      }
    },
    {
      "cell_type": "markdown",
      "source": [
        "### Langkah 1 - Inisiasi Model ANN"
      ],
      "metadata": {
        "id": "xbTcB4_rkKUH"
      }
    },
    {
      "cell_type": "code",
      "source": [
        "ann = tf.keras.models.Sequential()"
      ],
      "metadata": {
        "id": "MZjwBGpFkEME"
      },
      "execution_count": 10,
      "outputs": []
    },
    {
      "cell_type": "markdown",
      "source": [
        "### Langkah 2 - Membuat Input Layer dan Hidden Layer Pertama"
      ],
      "metadata": {
        "id": "jE6voVG8kOCw"
      }
    },
    {
      "cell_type": "code",
      "source": [
        "ann.add(tf.keras.layers.Dense(units=6, activation='relu'))"
      ],
      "metadata": {
        "id": "naVVYbxlkPCD"
      },
      "execution_count": 11,
      "outputs": []
    },
    {
      "cell_type": "markdown",
      "source": [
        "### Langkah 3 - Membuat Hidden Layer Kedua"
      ],
      "metadata": {
        "id": "0mrjgC5fkTtr"
      }
    },
    {
      "cell_type": "code",
      "source": [
        "ann.add(tf.keras.layers.Dense(units=6, activation='relu'))"
      ],
      "metadata": {
        "id": "aeaUycaxkVQ5"
      },
      "execution_count": 12,
      "outputs": []
    },
    {
      "cell_type": "markdown",
      "source": [
        "### Langkah 4 - Membuat Output Layer"
      ],
      "metadata": {
        "id": "iEeoMSfzkaE3"
      }
    },
    {
      "cell_type": "code",
      "source": [
        "ann.add(tf.keras.layers.Dense(units=1, activation='sigmoid'))"
      ],
      "metadata": {
        "id": "XqpiGhFikbO-"
      },
      "execution_count": 13,
      "outputs": []
    },
    {
      "cell_type": "markdown",
      "source": [
        "# Training Model"
      ],
      "metadata": {
        "id": "xkzizBi5khcP"
      }
    },
    {
      "cell_type": "markdown",
      "source": [
        "### Langkah 1 - Compile Model (Menyatukan Arsitektur) ANN"
      ],
      "metadata": {
        "id": "hRGmNl3Ekj9X"
      }
    },
    {
      "cell_type": "code",
      "source": [
        "ann.compile(optimizer = 'adam', loss = 'binary_crossentropy', metrics = ['accuracy'])"
      ],
      "metadata": {
        "id": "w7fLN_RZkk16"
      },
      "execution_count": 20,
      "outputs": []
    },
    {
      "cell_type": "markdown",
      "source": [
        "### Langkah 2 - Fitting Model"
      ],
      "metadata": {
        "id": "YOrmcMzDknre"
      }
    },
    {
      "cell_type": "code",
      "source": [
        "ann.fit(X_train, y_train, batch_size = 32, epochs = 100)"
      ],
      "metadata": {
        "colab": {
          "base_uri": "https://localhost:8080/"
        },
        "id": "nmSWZfyVkiYj",
        "outputId": "7ae0a22a-4346-436b-ef63-d3689a0ea9f1"
      },
      "execution_count": 24,
      "outputs": [
        {
          "output_type": "stream",
          "name": "stdout",
          "text": [
            "Epoch 1/100\n",
            "250/250 [==============================] - 1s 2ms/step - loss: 4613.9077 - accuracy: 0.5052\n",
            "Epoch 2/100\n",
            "250/250 [==============================] - 0s 2ms/step - loss: 49.7241 - accuracy: 0.6329\n",
            "Epoch 3/100\n",
            "250/250 [==============================] - 0s 2ms/step - loss: 26.8562 - accuracy: 0.6506\n",
            "Epoch 4/100\n",
            "250/250 [==============================] - 1s 2ms/step - loss: 22.4649 - accuracy: 0.6550\n",
            "Epoch 5/100\n",
            "250/250 [==============================] - 1s 2ms/step - loss: 18.0822 - accuracy: 0.6661\n",
            "Epoch 6/100\n",
            "250/250 [==============================] - 0s 2ms/step - loss: 23.9864 - accuracy: 0.6715\n",
            "Epoch 7/100\n",
            "250/250 [==============================] - 1s 2ms/step - loss: 27.0576 - accuracy: 0.6769\n",
            "Epoch 8/100\n",
            "250/250 [==============================] - 1s 2ms/step - loss: 23.5976 - accuracy: 0.6815\n",
            "Epoch 9/100\n",
            "250/250 [==============================] - 1s 2ms/step - loss: 27.2020 - accuracy: 0.6793\n",
            "Epoch 10/100\n",
            "250/250 [==============================] - 1s 2ms/step - loss: 19.4667 - accuracy: 0.6876\n",
            "Epoch 11/100\n",
            "250/250 [==============================] - 1s 2ms/step - loss: 22.9154 - accuracy: 0.6826\n",
            "Epoch 12/100\n",
            "250/250 [==============================] - 1s 2ms/step - loss: 20.4783 - accuracy: 0.6860\n",
            "Epoch 13/100\n",
            "250/250 [==============================] - 1s 2ms/step - loss: 26.5991 - accuracy: 0.6786\n",
            "Epoch 14/100\n",
            "250/250 [==============================] - 1s 2ms/step - loss: 17.2813 - accuracy: 0.6869\n",
            "Epoch 15/100\n",
            "250/250 [==============================] - 1s 2ms/step - loss: 22.4083 - accuracy: 0.6837\n",
            "Epoch 16/100\n",
            "250/250 [==============================] - 1s 2ms/step - loss: 17.7708 - accuracy: 0.6856\n",
            "Epoch 17/100\n",
            "250/250 [==============================] - 0s 2ms/step - loss: 19.0710 - accuracy: 0.6806\n",
            "Epoch 18/100\n",
            "250/250 [==============================] - 1s 2ms/step - loss: 19.6667 - accuracy: 0.6859\n",
            "Epoch 19/100\n",
            "250/250 [==============================] - 1s 3ms/step - loss: 21.6284 - accuracy: 0.6761\n",
            "Epoch 20/100\n",
            "250/250 [==============================] - 1s 3ms/step - loss: 17.1350 - accuracy: 0.6879\n",
            "Epoch 21/100\n",
            "250/250 [==============================] - 1s 3ms/step - loss: 17.9063 - accuracy: 0.6821\n",
            "Epoch 22/100\n",
            "250/250 [==============================] - 1s 3ms/step - loss: 23.6570 - accuracy: 0.6833\n",
            "Epoch 23/100\n",
            "250/250 [==============================] - 1s 3ms/step - loss: 17.8819 - accuracy: 0.6841\n",
            "Epoch 24/100\n",
            "250/250 [==============================] - 1s 3ms/step - loss: 18.7318 - accuracy: 0.6876\n",
            "Epoch 25/100\n",
            "250/250 [==============================] - 0s 2ms/step - loss: 21.6084 - accuracy: 0.6898\n",
            "Epoch 26/100\n",
            "250/250 [==============================] - 1s 2ms/step - loss: 21.3568 - accuracy: 0.6780\n",
            "Epoch 27/100\n",
            "250/250 [==============================] - 0s 2ms/step - loss: 25.9856 - accuracy: 0.6829\n",
            "Epoch 28/100\n",
            "250/250 [==============================] - 1s 2ms/step - loss: 18.1438 - accuracy: 0.6930\n",
            "Epoch 29/100\n",
            "250/250 [==============================] - 0s 2ms/step - loss: 16.7079 - accuracy: 0.6888\n",
            "Epoch 30/100\n",
            "250/250 [==============================] - 1s 2ms/step - loss: 17.7390 - accuracy: 0.6901\n",
            "Epoch 31/100\n",
            "250/250 [==============================] - 1s 2ms/step - loss: 21.4945 - accuracy: 0.6795\n",
            "Epoch 32/100\n",
            "250/250 [==============================] - 0s 2ms/step - loss: 20.4321 - accuracy: 0.6875\n",
            "Epoch 33/100\n",
            "250/250 [==============================] - 0s 2ms/step - loss: 15.7803 - accuracy: 0.6880\n",
            "Epoch 34/100\n",
            "250/250 [==============================] - 0s 2ms/step - loss: 13.9684 - accuracy: 0.6873\n",
            "Epoch 35/100\n",
            "250/250 [==============================] - 1s 2ms/step - loss: 20.6888 - accuracy: 0.6879\n",
            "Epoch 36/100\n",
            "250/250 [==============================] - 1s 2ms/step - loss: 24.7184 - accuracy: 0.6926\n",
            "Epoch 37/100\n",
            "250/250 [==============================] - 1s 2ms/step - loss: 20.6718 - accuracy: 0.6849\n",
            "Epoch 38/100\n",
            "250/250 [==============================] - 0s 2ms/step - loss: 16.4264 - accuracy: 0.6879\n",
            "Epoch 39/100\n",
            "250/250 [==============================] - 0s 2ms/step - loss: 15.0979 - accuracy: 0.6963\n",
            "Epoch 40/100\n",
            "250/250 [==============================] - 1s 2ms/step - loss: 17.4578 - accuracy: 0.6889\n",
            "Epoch 41/100\n",
            "250/250 [==============================] - 0s 2ms/step - loss: 17.8955 - accuracy: 0.6915\n",
            "Epoch 42/100\n",
            "250/250 [==============================] - 0s 2ms/step - loss: 18.9443 - accuracy: 0.6881\n",
            "Epoch 43/100\n",
            "250/250 [==============================] - 0s 2ms/step - loss: 15.0891 - accuracy: 0.6938\n",
            "Epoch 44/100\n",
            "250/250 [==============================] - 1s 2ms/step - loss: 18.0270 - accuracy: 0.6824\n",
            "Epoch 45/100\n",
            "250/250 [==============================] - 1s 3ms/step - loss: 15.0346 - accuracy: 0.6827\n",
            "Epoch 46/100\n",
            "250/250 [==============================] - 1s 3ms/step - loss: 16.1095 - accuracy: 0.6969\n",
            "Epoch 47/100\n",
            "250/250 [==============================] - 1s 3ms/step - loss: 16.4354 - accuracy: 0.6844\n",
            "Epoch 48/100\n",
            "250/250 [==============================] - 1s 4ms/step - loss: 17.1900 - accuracy: 0.6915\n",
            "Epoch 49/100\n",
            "250/250 [==============================] - 1s 3ms/step - loss: 16.4100 - accuracy: 0.6891\n",
            "Epoch 50/100\n",
            "250/250 [==============================] - 1s 2ms/step - loss: 15.1116 - accuracy: 0.6931\n",
            "Epoch 51/100\n",
            "250/250 [==============================] - 1s 2ms/step - loss: 20.3190 - accuracy: 0.6819\n",
            "Epoch 52/100\n",
            "250/250 [==============================] - 1s 2ms/step - loss: 12.5326 - accuracy: 0.6995\n",
            "Epoch 53/100\n",
            "250/250 [==============================] - 0s 2ms/step - loss: 14.2734 - accuracy: 0.6927\n",
            "Epoch 54/100\n",
            "250/250 [==============================] - 1s 2ms/step - loss: 19.3705 - accuracy: 0.6930\n",
            "Epoch 55/100\n",
            "250/250 [==============================] - 0s 2ms/step - loss: 12.7339 - accuracy: 0.6888\n",
            "Epoch 56/100\n",
            "250/250 [==============================] - 0s 2ms/step - loss: 13.9866 - accuracy: 0.6898\n",
            "Epoch 57/100\n",
            "250/250 [==============================] - 1s 2ms/step - loss: 16.9489 - accuracy: 0.6855\n",
            "Epoch 58/100\n",
            "250/250 [==============================] - 1s 2ms/step - loss: 16.9211 - accuracy: 0.6869\n",
            "Epoch 59/100\n",
            "250/250 [==============================] - 0s 2ms/step - loss: 17.7919 - accuracy: 0.6956\n",
            "Epoch 60/100\n",
            "250/250 [==============================] - 0s 2ms/step - loss: 13.0558 - accuracy: 0.6881\n",
            "Epoch 61/100\n",
            "250/250 [==============================] - 1s 2ms/step - loss: 17.2416 - accuracy: 0.6892\n",
            "Epoch 62/100\n",
            "250/250 [==============================] - 1s 2ms/step - loss: 13.3999 - accuracy: 0.6919\n",
            "Epoch 63/100\n",
            "250/250 [==============================] - 1s 2ms/step - loss: 12.5016 - accuracy: 0.6911\n",
            "Epoch 64/100\n",
            "250/250 [==============================] - 0s 2ms/step - loss: 18.7260 - accuracy: 0.6941\n",
            "Epoch 65/100\n",
            "250/250 [==============================] - 1s 2ms/step - loss: 15.6876 - accuracy: 0.6935\n",
            "Epoch 66/100\n",
            "250/250 [==============================] - 1s 2ms/step - loss: 12.5270 - accuracy: 0.6923\n",
            "Epoch 67/100\n",
            "250/250 [==============================] - 1s 2ms/step - loss: 21.4508 - accuracy: 0.6892\n",
            "Epoch 68/100\n",
            "250/250 [==============================] - 1s 2ms/step - loss: 12.1754 - accuracy: 0.6914\n",
            "Epoch 69/100\n",
            "250/250 [==============================] - 1s 3ms/step - loss: 17.2360 - accuracy: 0.6884\n",
            "Epoch 70/100\n",
            "250/250 [==============================] - 1s 3ms/step - loss: 12.4700 - accuracy: 0.7000\n",
            "Epoch 71/100\n",
            "250/250 [==============================] - 1s 3ms/step - loss: 23.5330 - accuracy: 0.6866\n",
            "Epoch 72/100\n",
            "250/250 [==============================] - 1s 4ms/step - loss: 14.6468 - accuracy: 0.6971\n",
            "Epoch 73/100\n",
            "250/250 [==============================] - 1s 3ms/step - loss: 13.4737 - accuracy: 0.6942\n",
            "Epoch 74/100\n",
            "250/250 [==============================] - 1s 3ms/step - loss: 13.4199 - accuracy: 0.7009\n",
            "Epoch 75/100\n",
            "250/250 [==============================] - 0s 2ms/step - loss: 12.0493 - accuracy: 0.7007\n",
            "Epoch 76/100\n",
            "250/250 [==============================] - 1s 2ms/step - loss: 17.2530 - accuracy: 0.6879\n",
            "Epoch 77/100\n",
            "250/250 [==============================] - 1s 2ms/step - loss: 10.9704 - accuracy: 0.6989\n",
            "Epoch 78/100\n",
            "250/250 [==============================] - 1s 2ms/step - loss: 17.9591 - accuracy: 0.6844\n",
            "Epoch 79/100\n",
            "250/250 [==============================] - 0s 2ms/step - loss: 19.8015 - accuracy: 0.6951\n",
            "Epoch 80/100\n",
            "250/250 [==============================] - 1s 2ms/step - loss: 11.1948 - accuracy: 0.6965\n",
            "Epoch 81/100\n",
            "250/250 [==============================] - 0s 2ms/step - loss: 13.9708 - accuracy: 0.7029\n",
            "Epoch 82/100\n",
            "250/250 [==============================] - 1s 2ms/step - loss: 19.0633 - accuracy: 0.6954\n",
            "Epoch 83/100\n",
            "250/250 [==============================] - 0s 2ms/step - loss: 14.0894 - accuracy: 0.6970\n",
            "Epoch 84/100\n",
            "250/250 [==============================] - 0s 2ms/step - loss: 11.1941 - accuracy: 0.7035\n",
            "Epoch 85/100\n",
            "250/250 [==============================] - 1s 2ms/step - loss: 17.6047 - accuracy: 0.6862\n",
            "Epoch 86/100\n",
            "250/250 [==============================] - 1s 2ms/step - loss: 18.6311 - accuracy: 0.6879\n",
            "Epoch 87/100\n",
            "250/250 [==============================] - 1s 2ms/step - loss: 13.5121 - accuracy: 0.6911\n",
            "Epoch 88/100\n",
            "250/250 [==============================] - 1s 2ms/step - loss: 13.5745 - accuracy: 0.6884\n",
            "Epoch 89/100\n",
            "250/250 [==============================] - 0s 2ms/step - loss: 17.3975 - accuracy: 0.6925\n",
            "Epoch 90/100\n",
            "250/250 [==============================] - 1s 2ms/step - loss: 15.2965 - accuracy: 0.6888\n",
            "Epoch 91/100\n",
            "250/250 [==============================] - 1s 2ms/step - loss: 10.4011 - accuracy: 0.7025\n",
            "Epoch 92/100\n",
            "250/250 [==============================] - 1s 2ms/step - loss: 12.0873 - accuracy: 0.7031\n",
            "Epoch 93/100\n",
            "250/250 [==============================] - 1s 2ms/step - loss: 14.1604 - accuracy: 0.6940\n",
            "Epoch 94/100\n",
            "250/250 [==============================] - 1s 3ms/step - loss: 16.7921 - accuracy: 0.6929\n",
            "Epoch 95/100\n",
            "250/250 [==============================] - 1s 3ms/step - loss: 15.3829 - accuracy: 0.6985\n",
            "Epoch 96/100\n",
            "250/250 [==============================] - 1s 3ms/step - loss: 16.9644 - accuracy: 0.6992\n",
            "Epoch 97/100\n",
            "250/250 [==============================] - 1s 3ms/step - loss: 17.9229 - accuracy: 0.6944\n",
            "Epoch 98/100\n",
            "250/250 [==============================] - 1s 3ms/step - loss: 14.2741 - accuracy: 0.6956\n",
            "Epoch 99/100\n",
            "250/250 [==============================] - 1s 3ms/step - loss: 19.3612 - accuracy: 0.6923\n",
            "Epoch 100/100\n",
            "250/250 [==============================] - 1s 2ms/step - loss: 11.4484 - accuracy: 0.7028\n"
          ]
        },
        {
          "output_type": "execute_result",
          "data": {
            "text/plain": [
              "<keras.src.callbacks.History at 0x78f67439bee0>"
            ]
          },
          "metadata": {},
          "execution_count": 24
        }
      ]
    },
    {
      "cell_type": "markdown",
      "source": [
        "# Membuat Prediksi"
      ],
      "metadata": {
        "id": "C1_MGSV5myjt"
      }
    },
    {
      "cell_type": "markdown",
      "source": [
        "### Modelkan Data Baru dan Buat Prediksi"
      ],
      "metadata": {
        "id": "i5FY47FCnLzg"
      }
    },
    {
      "cell_type": "code",
      "source": [
        "print(ann.predict(sc.transform([[1, 0, 0, 600, 1, 40, 3, 60000, 2, 1, 1, 50000]])) > 0.5)"
      ],
      "metadata": {
        "colab": {
          "base_uri": "https://localhost:8080/",
          "height": 175
        },
        "id": "kEFZwJIcl3yp",
        "outputId": "a7e4fc65-cd30-4901-91af-9c10186c8768"
      },
      "execution_count": 29,
      "outputs": [
        {
          "output_type": "error",
          "ename": "NameError",
          "evalue": "ignored",
          "traceback": [
            "\u001b[0;31m---------------------------------------------------------------------------\u001b[0m",
            "\u001b[0;31mNameError\u001b[0m                                 Traceback (most recent call last)",
            "\u001b[0;32m<ipython-input-29-988a8a9877c1>\u001b[0m in \u001b[0;36m<cell line: 1>\u001b[0;34m()\u001b[0m\n\u001b[0;32m----> 1\u001b[0;31m \u001b[0mprint\u001b[0m\u001b[0;34m(\u001b[0m\u001b[0mann\u001b[0m\u001b[0;34m.\u001b[0m\u001b[0mpredict\u001b[0m\u001b[0;34m(\u001b[0m\u001b[0msc\u001b[0m\u001b[0;34m.\u001b[0m\u001b[0mtransform\u001b[0m\u001b[0;34m(\u001b[0m\u001b[0;34m[\u001b[0m\u001b[0;34m[\u001b[0m\u001b[0;36m1\u001b[0m\u001b[0;34m,\u001b[0m \u001b[0;36m0\u001b[0m\u001b[0;34m,\u001b[0m \u001b[0;36m0\u001b[0m\u001b[0;34m,\u001b[0m \u001b[0;36m600\u001b[0m\u001b[0;34m,\u001b[0m \u001b[0;36m1\u001b[0m\u001b[0;34m,\u001b[0m \u001b[0;36m40\u001b[0m\u001b[0;34m,\u001b[0m \u001b[0;36m3\u001b[0m\u001b[0;34m,\u001b[0m \u001b[0;36m60000\u001b[0m\u001b[0;34m,\u001b[0m \u001b[0;36m2\u001b[0m\u001b[0;34m,\u001b[0m \u001b[0;36m1\u001b[0m\u001b[0;34m,\u001b[0m \u001b[0;36m1\u001b[0m\u001b[0;34m,\u001b[0m \u001b[0;36m50000\u001b[0m\u001b[0;34m]\u001b[0m\u001b[0;34m]\u001b[0m\u001b[0;34m)\u001b[0m\u001b[0;34m)\u001b[0m \u001b[0;34m>\u001b[0m \u001b[0;36m0.5\u001b[0m\u001b[0;34m)\u001b[0m\u001b[0;34m\u001b[0m\u001b[0;34m\u001b[0m\u001b[0m\n\u001b[0m",
            "\u001b[0;31mNameError\u001b[0m: name 'sc' is not defined"
          ]
        }
      ]
    },
    {
      "cell_type": "markdown",
      "source": [],
      "metadata": {
        "id": "03BHdXhwnZrQ"
      }
    },
    {
      "cell_type": "code",
      "source": [
        "y_pred = ann.predict(X_test)\n",
        "y_pred = (y_pred > 0.5)\n",
        "print(np.concatenate((y_pred.reshape(len(y_pred),1), y_test.reshape(len(y_test),1)),1))"
      ],
      "metadata": {
        "colab": {
          "base_uri": "https://localhost:8080/",
          "height": 373
        },
        "id": "QQRDSg7anaSi",
        "outputId": "0199b616-fa17-4699-f9cc-43a9cf8c3d7a"
      },
      "execution_count": 28,
      "outputs": [
        {
          "output_type": "error",
          "ename": "ValueError",
          "evalue": "ignored",
          "traceback": [
            "\u001b[0;31m---------------------------------------------------------------------------\u001b[0m",
            "\u001b[0;31mValueError\u001b[0m                                Traceback (most recent call last)",
            "\u001b[0;32m<ipython-input-28-e3057b8bdb41>\u001b[0m in \u001b[0;36m<cell line: 1>\u001b[0;34m()\u001b[0m\n\u001b[0;32m----> 1\u001b[0;31m \u001b[0my_pred\u001b[0m \u001b[0;34m=\u001b[0m \u001b[0mann\u001b[0m\u001b[0;34m.\u001b[0m\u001b[0mpredict\u001b[0m\u001b[0;34m(\u001b[0m\u001b[0mX_test\u001b[0m\u001b[0;34m)\u001b[0m\u001b[0;34m\u001b[0m\u001b[0;34m\u001b[0m\u001b[0m\n\u001b[0m\u001b[1;32m      2\u001b[0m \u001b[0my_pred\u001b[0m \u001b[0;34m=\u001b[0m \u001b[0;34m(\u001b[0m\u001b[0my_pred\u001b[0m \u001b[0;34m>\u001b[0m \u001b[0;36m0.5\u001b[0m\u001b[0;34m)\u001b[0m\u001b[0;34m\u001b[0m\u001b[0;34m\u001b[0m\u001b[0m\n\u001b[1;32m      3\u001b[0m \u001b[0mprint\u001b[0m\u001b[0;34m(\u001b[0m\u001b[0mnp\u001b[0m\u001b[0;34m.\u001b[0m\u001b[0mconcatenate\u001b[0m\u001b[0;34m(\u001b[0m\u001b[0;34m(\u001b[0m\u001b[0my_pred\u001b[0m\u001b[0;34m.\u001b[0m\u001b[0mreshape\u001b[0m\u001b[0;34m(\u001b[0m\u001b[0mlen\u001b[0m\u001b[0;34m(\u001b[0m\u001b[0my_pred\u001b[0m\u001b[0;34m)\u001b[0m\u001b[0;34m,\u001b[0m\u001b[0;36m1\u001b[0m\u001b[0;34m)\u001b[0m\u001b[0;34m,\u001b[0m \u001b[0my_test\u001b[0m\u001b[0;34m.\u001b[0m\u001b[0mreshape\u001b[0m\u001b[0;34m(\u001b[0m\u001b[0mlen\u001b[0m\u001b[0;34m(\u001b[0m\u001b[0my_test\u001b[0m\u001b[0;34m)\u001b[0m\u001b[0;34m,\u001b[0m\u001b[0;36m1\u001b[0m\u001b[0;34m)\u001b[0m\u001b[0;34m)\u001b[0m\u001b[0;34m,\u001b[0m\u001b[0;36m1\u001b[0m\u001b[0;34m)\u001b[0m\u001b[0;34m)\u001b[0m\u001b[0;34m\u001b[0m\u001b[0;34m\u001b[0m\u001b[0m\n",
            "\u001b[0;32m/usr/local/lib/python3.10/dist-packages/keras/src/utils/traceback_utils.py\u001b[0m in \u001b[0;36merror_handler\u001b[0;34m(*args, **kwargs)\u001b[0m\n\u001b[1;32m     68\u001b[0m             \u001b[0;31m# To get the full stack trace, call:\u001b[0m\u001b[0;34m\u001b[0m\u001b[0;34m\u001b[0m\u001b[0m\n\u001b[1;32m     69\u001b[0m             \u001b[0;31m# `tf.debugging.disable_traceback_filtering()`\u001b[0m\u001b[0;34m\u001b[0m\u001b[0;34m\u001b[0m\u001b[0m\n\u001b[0;32m---> 70\u001b[0;31m             \u001b[0;32mraise\u001b[0m \u001b[0me\u001b[0m\u001b[0;34m.\u001b[0m\u001b[0mwith_traceback\u001b[0m\u001b[0;34m(\u001b[0m\u001b[0mfiltered_tb\u001b[0m\u001b[0;34m)\u001b[0m \u001b[0;32mfrom\u001b[0m \u001b[0;32mNone\u001b[0m\u001b[0;34m\u001b[0m\u001b[0;34m\u001b[0m\u001b[0m\n\u001b[0m\u001b[1;32m     71\u001b[0m         \u001b[0;32mfinally\u001b[0m\u001b[0;34m:\u001b[0m\u001b[0;34m\u001b[0m\u001b[0;34m\u001b[0m\u001b[0m\n\u001b[1;32m     72\u001b[0m             \u001b[0;32mdel\u001b[0m \u001b[0mfiltered_tb\u001b[0m\u001b[0;34m\u001b[0m\u001b[0;34m\u001b[0m\u001b[0m\n",
            "\u001b[0;32m/usr/local/lib/python3.10/dist-packages/tensorflow/python/framework/constant_op.py\u001b[0m in \u001b[0;36mconvert_to_eager_tensor\u001b[0;34m(value, ctx, dtype)\u001b[0m\n\u001b[1;32m    100\u001b[0m       \u001b[0mdtype\u001b[0m \u001b[0;34m=\u001b[0m \u001b[0mdtypes\u001b[0m\u001b[0;34m.\u001b[0m\u001b[0mas_dtype\u001b[0m\u001b[0;34m(\u001b[0m\u001b[0mdtype\u001b[0m\u001b[0;34m)\u001b[0m\u001b[0;34m.\u001b[0m\u001b[0mas_datatype_enum\u001b[0m\u001b[0;34m\u001b[0m\u001b[0;34m\u001b[0m\u001b[0m\n\u001b[1;32m    101\u001b[0m   \u001b[0mctx\u001b[0m\u001b[0;34m.\u001b[0m\u001b[0mensure_initialized\u001b[0m\u001b[0;34m(\u001b[0m\u001b[0;34m)\u001b[0m\u001b[0;34m\u001b[0m\u001b[0;34m\u001b[0m\u001b[0m\n\u001b[0;32m--> 102\u001b[0;31m   \u001b[0;32mreturn\u001b[0m \u001b[0mops\u001b[0m\u001b[0;34m.\u001b[0m\u001b[0mEagerTensor\u001b[0m\u001b[0;34m(\u001b[0m\u001b[0mvalue\u001b[0m\u001b[0;34m,\u001b[0m \u001b[0mctx\u001b[0m\u001b[0;34m.\u001b[0m\u001b[0mdevice_name\u001b[0m\u001b[0;34m,\u001b[0m \u001b[0mdtype\u001b[0m\u001b[0;34m)\u001b[0m\u001b[0;34m\u001b[0m\u001b[0;34m\u001b[0m\u001b[0m\n\u001b[0m\u001b[1;32m    103\u001b[0m \u001b[0;34m\u001b[0m\u001b[0m\n\u001b[1;32m    104\u001b[0m \u001b[0;34m\u001b[0m\u001b[0m\n",
            "\u001b[0;31mValueError\u001b[0m: Failed to convert a NumPy array to a Tensor (Unsupported object type float)."
          ]
        }
      ]
    }
  ]
}
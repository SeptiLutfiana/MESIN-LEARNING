{
  "nbformat": 4,
  "nbformat_minor": 0,
  "metadata": {
    "colab": {
      "provenance": [],
      "authorship_tag": "ABX9TyNGAOc5zE/1wbTQTGnNh40l",
      "include_colab_link": true
    },
    "kernelspec": {
      "name": "python3",
      "display_name": "Python 3"
    },
    "language_info": {
      "name": "python"
    }
  },
  "cells": [
    {
      "cell_type": "markdown",
      "metadata": {
        "id": "view-in-github",
        "colab_type": "text"
      },
      "source": [
        "<a href=\"https://colab.research.google.com/github/SeptiLutfiana/MESIN-LEARNING/blob/main/Pertemuan_11_Tugas_Septi_Lutfiana.ipynb\" target=\"_parent\"><img src=\"https://colab.research.google.com/assets/colab-badge.svg\" alt=\"Open In Colab\"/></a>"
      ]
    },
    {
      "cell_type": "markdown",
      "source": [
        "- Septi Lutfiana\n",
        "- 2141720038\n",
        "- 3H\n",
        "\n",
        "**Pertemuan 11 - Praktikum 2**"
      ],
      "metadata": {
        "id": "yfjQ74qSVjXa"
      }
    },
    {
      "cell_type": "markdown",
      "source": [
        "1. Modifikasi model CNN pada praktikum 2 sehingga didapatkan akurasi testing lebih dari 80%"
      ],
      "metadata": {
        "id": "w6oqqjYmWz9O"
      }
    },
    {
      "cell_type": "code",
      "execution_count": null,
      "metadata": {
        "id": "Hu49gYCbVWf9"
      },
      "outputs": [],
      "source": []
    },
    {
      "cell_type": "markdown",
      "source": [
        "\n",
        "2. Buatlah model CNN untuk klasifikasi dataset MNIST."
      ],
      "metadata": {
        "id": "bZVoYKQ-W6HT"
      }
    }
  ]
}
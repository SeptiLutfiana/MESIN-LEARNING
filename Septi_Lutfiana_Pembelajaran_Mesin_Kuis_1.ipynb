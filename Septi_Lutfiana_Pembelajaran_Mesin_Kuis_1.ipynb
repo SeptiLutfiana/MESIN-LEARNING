{
  "nbformat": 4,
  "nbformat_minor": 0,
  "metadata": {
    "colab": {
      "provenance": [],
      "include_colab_link": true
    },
    "kernelspec": {
      "name": "python3",
      "display_name": "Python 3"
    },
    "language_info": {
      "name": "python"
    }
  },
  "cells": [
    {
      "cell_type": "markdown",
      "metadata": {
        "id": "view-in-github",
        "colab_type": "text"
      },
      "source": [
        "<a href=\"https://colab.research.google.com/github/SeptiLutfiana/MESIN-LEARNING/blob/main/Septi_Lutfiana_Pembelajaran_Mesin_Kuis_1.ipynb\" target=\"_parent\"><img src=\"https://colab.research.google.com/assets/colab-badge.svg\" alt=\"Open In Colab\"/></a>"
      ]
    },
    {
      "cell_type": "markdown",
      "source": [
        "* Nama: Septi Lutfiana\n",
        "* NIM: 2141720038\n",
        "* Kelas: 3H D-IV TI"
      ],
      "metadata": {
        "id": "zF6f1WrinWkM"
      }
    },
    {
      "cell_type": "markdown",
      "source": [
        "# Kasus - Klasifikasi Tulisan Tangan dengan Dataset MNIST"
      ],
      "metadata": {
        "id": "j8DxEb__d-qh"
      }
    },
    {
      "cell_type": "markdown",
      "source": [
        "## Deskripsi Umum\n",
        "Anda diminta untuk melakukan klasifikasi dengan menggunakan algoritma Naive Bayes dan SVM untuk merekognisi tulisan tangan dari dataset MNIST"
      ],
      "metadata": {
        "id": "Gb84a8a3eptF"
      }
    },
    {
      "cell_type": "markdown",
      "source": [
        "## Tentang Dataset MNIST\n",
        "\n",
        "Dataset MNIST (Modified National Institute of Standards and Technology) merupakan dataset berupa citra grayscale dengan ukuran 28x28 yang berisi tulisan tangan dari digit angka 0-9. Jumlah data dalam dataset ini adalah 70.000 data."
      ],
      "metadata": {
        "id": "KEx5J6i1euPr"
      }
    },
    {
      "cell_type": "markdown",
      "source": [
        "## Detail Kuis\n",
        "\n",
        "1. Pastikan jumlah data setiap label angka (0-9). Apakah terdapat data imbalance pada dataset MNIST yang digunakan? Jelaskan jawaban kelompok Anda dan buktikan!\n",
        "\n",
        "2. Tampilkan 15 buah citra pertama dari dataset MNIST berserta labelnya. Anda dapat menggunakan referensi dari Job Sheet 03.\n",
        "\n",
        "3. Lakukan proses ekstraksi fitur pada data MNIST. Pada proses ini, Anda diperbolehkan untuk\n",
        "    - Langsung menggunakan nilai asli dari citra (nilai asli setiap pixel dari dataset) sebagai fitur.\n",
        "    - Melakukan ekstraksi fitur lain seperti histogram, PCA, atau yang lainnya. Anda diperbolehkan melakukan ekspolarasi pada proses ini.\n",
        "\n",
        "4. Buatlah data training dan data testing menggunakan rasio 70:30, 80:20, 90:10.\n",
        "\n",
        "4. Lakukan proses klasifikasi dengan menggunakan algoritma Naive Bayes dan SVM.\n",
        "   - Anda diperbolehkan untuk melakukan tunning parameter.\n",
        "   - Anda diperbolehkan mengeksplorasi jenis kernel yang digunakan pada SVM.\n",
        "\n",
        "5. Evaluasi model yang Anda buat terhadap data training dan data testing.\n",
        "   - Gunakan metric *accuracy* untuk mengetahui tingkat akurasi data training dan data testing.\n",
        "   - Gunakan fungsi *classification_report* untuk mengetahui performa model secara holistik.\n",
        "   - Gunakan confusion matrix untuk mengetahui tingkat ketepatan pelabelan.\n",
        "\n",
        "6. Tampilkan citra data testing berserta hasil pelabelannya. Anda dapat menggunakan Job Sheet 03 sebagai acuan.\n",
        "\n",
        "7. Apa model terbaik yang Anda dapatkan? Bagaimana konfigurasinya? Berapa tingkat akurasi yang didapatkan? Jelaskan!"
      ],
      "metadata": {
        "id": "0G4hvAMGfa7T"
      }
    },
    {
      "cell_type": "markdown",
      "source": [
        "# Bantuan\n",
        "\n",
        "Berikut merupakan kode bantuan untuk proses mengunduh dataset MNIST"
      ],
      "metadata": {
        "id": "aFXaRwkikbIk"
      }
    },
    {
      "cell_type": "code",
      "execution_count": null,
      "metadata": {
        "id": "Ne3-Z5-wcTRt",
        "colab": {
          "base_uri": "https://localhost:8080/"
        },
        "outputId": "6cdbff7c-80dc-451d-b441-ecabe82a6063"
      },
      "outputs": [
        {
          "output_type": "stream",
          "name": "stderr",
          "text": [
            "/usr/local/lib/python3.10/dist-packages/sklearn/datasets/_openml.py:968: FutureWarning: The default value of `parser` will change from `'liac-arff'` to `'auto'` in 1.4. You can set `parser='auto'` to silence this warning. Therefore, an `ImportError` will be raised from 1.4 if the dataset is dense and pandas is not installed. Note that the pandas parser may return different data types. See the Notes Section in fetch_openml's API doc for details.\n",
            "  warn(\n"
          ]
        }
      ],
      "source": [
        "# Unduh Dataset MNIST\n",
        "from sklearn.datasets import fetch_openml\n",
        "\n",
        "mnist = fetch_openml('mnist_784')"
      ]
    },
    {
      "cell_type": "code",
      "source": [
        "# Baca deskripsi dataset\n",
        "# Tahap ini mungkin diperlukan untuk lebih memahami dataset\n",
        "print(mnist.DESCR)"
      ],
      "metadata": {
        "id": "VFcYRExSk8wl",
        "colab": {
          "base_uri": "https://localhost:8080/"
        },
        "outputId": "726fa07e-f699-4ad0-e3ec-23ba39e1f2cb"
      },
      "execution_count": null,
      "outputs": [
        {
          "output_type": "stream",
          "name": "stdout",
          "text": [
            "**Author**: Yann LeCun, Corinna Cortes, Christopher J.C. Burges  \n",
            "**Source**: [MNIST Website](http://yann.lecun.com/exdb/mnist/) - Date unknown  \n",
            "**Please cite**:  \n",
            "\n",
            "The MNIST database of handwritten digits with 784 features, raw data available at: http://yann.lecun.com/exdb/mnist/. It can be split in a training set of the first 60,000 examples, and a test set of 10,000 examples  \n",
            "\n",
            "It is a subset of a larger set available from NIST. The digits have been size-normalized and centered in a fixed-size image. It is a good database for people who want to try learning techniques and pattern recognition methods on real-world data while spending minimal efforts on preprocessing and formatting. The original black and white (bilevel) images from NIST were size normalized to fit in a 20x20 pixel box while preserving their aspect ratio. The resulting images contain grey levels as a result of the anti-aliasing technique used by the normalization algorithm. the images were centered in a 28x28 image by computing the center of mass of the pixels, and translating the image so as to position this point at the center of the 28x28 field.  \n",
            "\n",
            "With some classification methods (particularly template-based methods, such as SVM and K-nearest neighbors), the error rate improves when the digits are centered by bounding box rather than center of mass. If you do this kind of pre-processing, you should report it in your publications. The MNIST database was constructed from NIST's NIST originally designated SD-3 as their training set and SD-1 as their test set. However, SD-3 is much cleaner and easier to recognize than SD-1. The reason for this can be found on the fact that SD-3 was collected among Census Bureau employees, while SD-1 was collected among high-school students. Drawing sensible conclusions from learning experiments requires that the result be independent of the choice of training set and test among the complete set of samples. Therefore it was necessary to build a new database by mixing NIST's datasets.  \n",
            "\n",
            "The MNIST training set is composed of 30,000 patterns from SD-3 and 30,000 patterns from SD-1. Our test set was composed of 5,000 patterns from SD-3 and 5,000 patterns from SD-1. The 60,000 pattern training set contained examples from approximately 250 writers. We made sure that the sets of writers of the training set and test set were disjoint. SD-1 contains 58,527 digit images written by 500 different writers. In contrast to SD-3, where blocks of data from each writer appeared in sequence, the data in SD-1 is scrambled. Writer identities for SD-1 is available and we used this information to unscramble the writers. We then split SD-1 in two: characters written by the first 250 writers went into our new training set. The remaining 250 writers were placed in our test set. Thus we had two sets with nearly 30,000 examples each. The new training set was completed with enough examples from SD-3, starting at pattern # 0, to make a full set of 60,000 training patterns. Similarly, the new test set was completed with SD-3 examples starting at pattern # 35,000 to make a full set with 60,000 test patterns. Only a subset of 10,000 test images (5,000 from SD-1 and 5,000 from SD-3) is available on this site. The full 60,000 sample training set is available.\n",
            "\n",
            "Downloaded from openml.org.\n"
          ]
        }
      ]
    },
    {
      "cell_type": "code",
      "source": [
        "# Inspeksi semua key dalam dataset\n",
        "# Cara ini digunakan untuk memahami struktur dari dataset MNIST\n",
        "mnist.keys()"
      ],
      "metadata": {
        "id": "vw14DeY0lgVF",
        "colab": {
          "base_uri": "https://localhost:8080/"
        },
        "outputId": "f053c845-0d72-4f74-ef09-f6f011f1e0fc"
      },
      "execution_count": null,
      "outputs": [
        {
          "output_type": "execute_result",
          "data": {
            "text/plain": [
              "dict_keys(['data', 'target', 'frame', 'categories', 'feature_names', 'target_names', 'DESCR', 'details', 'url'])"
            ]
          },
          "metadata": {},
          "execution_count": 8
        }
      ]
    },
    {
      "cell_type": "markdown",
      "source": [
        "## 1. Pastikan jumlah data setiap label angka (0-9). Apakah terdapat data imbalance pada dataset MNIST yang digunakan? Jelaskan jawaban kelompok Anda dan buktikan!"
      ],
      "metadata": {
        "id": "sza1zOP2cINa"
      }
    },
    {
      "cell_type": "code",
      "source": [
        "import numpy as np\n",
        "import matplotlib.pyplot as plt\n",
        "\n",
        "# Memisahkan fitur dan label\n",
        "X = mnist.data\n",
        "y = mnist.target\n",
        "\n",
        "# Menghitung jumlah data untuk setiap label\n",
        "label_counts = np.bincount(y.astype(int)) # mengetahui jumlah data pada setiap label\n",
        "\n",
        "# Menampilkan jumlah data untuk setiap label\n",
        "for label, count in enumerate(label_counts):\n",
        "    print(f\"Label {label}: {count}\")"
      ],
      "metadata": {
        "id": "I4SRLrS8mlNx",
        "colab": {
          "base_uri": "https://localhost:8080/"
        },
        "outputId": "63fcfe68-e0f8-4e34-88c4-f01f3b61bb7a"
      },
      "execution_count": null,
      "outputs": [
        {
          "output_type": "stream",
          "name": "stdout",
          "text": [
            "Label 0: 6903\n",
            "Label 1: 7877\n",
            "Label 2: 6990\n",
            "Label 3: 7141\n",
            "Label 4: 6824\n",
            "Label 5: 6313\n",
            "Label 6: 6876\n",
            "Label 7: 7293\n",
            "Label 8: 6825\n",
            "Label 9: 6958\n"
          ]
        }
      ]
    },
    {
      "cell_type": "markdown",
      "source": [
        "### Penjelasan No. 1\n",
        "\n",
        "Dengan melihat data di atas, kita dapat melihat bahwa jumlah data untuk setiap label angka cukup seimbang dalam dataset MNIST. Selisih jumlah data antara label angka terkecil (label 5 dengan 6313 data) dan terbesar (label 1 dengan 7877 data) tidak terlalu signifikan."
      ],
      "metadata": {
        "id": "cNcDmXKfeCQN"
      }
    },
    {
      "cell_type": "markdown",
      "source": [
        "## 2. Tampilkan 15 buah citra pertama dari dataset MNIST berserta labelnya. Anda dapat menggunakan referensi dari Job Sheet 03."
      ],
      "metadata": {
        "id": "-JDITfrDeihy"
      }
    },
    {
      "cell_type": "code",
      "source": [
        "# Menampilkan 15 citra pertama dari dataset MNIST\n",
        "# Konversi X menjadi array NumPy\n",
        "X = X.values\n",
        "# atau bisa menggunakan X.iloc[i].values untuk mengakses nilai array dari DataFrame X pada setiap iterasi\n",
        "# Menampilkan 15 citra pertama dari dataset MNIST\n",
        "fig, ax = plt.subplots(3, 5)\n",
        "for i, axi in enumerate(ax.flat):\n",
        "    img = X[i].reshape(28, 28)  # Mengubah bentuk citra menjadi matriks 2D 28x28\n",
        "    axi.imshow(img, cmap='bone')\n",
        "    axi.set(xticks=[], yticks=[],\n",
        "            xlabel=y[i])\n",
        "\n",
        "plt.tight_layout()"
      ],
      "metadata": {
        "colab": {
          "base_uri": "https://localhost:8080/",
          "height": 468
        },
        "id": "p9dIQVcQg3-t",
        "outputId": "86a06143-2c7d-43e8-b9e9-de6439fec2ac"
      },
      "execution_count": null,
      "outputs": [
        {
          "output_type": "display_data",
          "data": {
            "text/plain": [
              "<Figure size 640x480 with 15 Axes>"
            ],
            "image/png": "[encoded data removed]"
          },
          "metadata": {}
        }
      ]
    },
    {
      "cell_type": "markdown",
      "source": [
        "## 3. Lakukan proses ekstraksi fitur pada data MNIST. Pada proses ini, Anda diperbolehkan untuk\n",
        "\n",
        "- Langsung menggunakan nilai asli dari citra (nilai asli setiap pixel dari dataset) sebagai fitur.\n",
        "- Melakukan ekstraksi fitur lain seperti histogram, PCA, atau yang lainnya. Anda diperbolehkan melakukan ekspolarasi pada proses ini."
      ],
      "metadata": {
        "id": "g_msYaXvjACv"
      }
    },
    {
      "cell_type": "code",
      "source": [
        "import numpy as np\n",
        "import matplotlib.pyplot as plt\n",
        "\n",
        "# Mengambil contoh citra\n",
        "sample_image_index = 0\n",
        "sample_image = X[sample_image_index].reshape(28, 28)\n",
        "\n",
        "# Menghitung histogram\n",
        "hist, _ = np.histogram(sample_image, bins=256, range=[0, 255])\n",
        "\n",
        "# Menampilkan histogram\n",
        "plt.bar(range(256), hist)\n",
        "plt.xlabel('Intensitas Piksel')\n",
        "plt.ylabel('Frekuensi')\n",
        "plt.title('Histogram Fitur Citra')\n",
        "plt.show()"
      ],
      "metadata": {
        "colab": {
          "base_uri": "https://localhost:8080/",
          "height": 472
        },
        "id": "j5Dd25qGpBIs",
        "outputId": "43fa1e25-d14c-4850-bccf-e414d62342c9"
      },
      "execution_count": null,
      "outputs": [
        {
          "output_type": "display_data",
          "data": {
            "text/plain": [
              "<Figure size 640x480 with 1 Axes>"
            ],
            "image/png": "[encoded data removed]"
          },
          "metadata": {}
        }
      ]
    },
    {
      "cell_type": "code",
      "source": [
        "# Melakukan PCA untuk ekstraksi fitur\n",
        "from sklearn.decomposition import PCA\n",
        "pca = PCA(n_components=16) # semakin kecil n_componene maka kualiatas pixel jelek dan tidak jelas, jika semakin besar maka akan detail dalam penjelasannya.\n",
        "X_features = pca.fit_transform(X)\n",
        "\n",
        "# Contoh penggunaan fitur\n",
        "sample_image_index = 0\n",
        "sample_image_features = X_features[sample_image_index]\n",
        "sample_image_label = int(y[sample_image_index])  # Mengonversi label citra menjadi tipe integer\n",
        "\n",
        "\n",
        "\n",
        "plt.scatter(X_features[:, 0], X_features[:, 1], cmap='viridis')\n",
        "plt.colorbar()\n",
        "plt.xlabel('Fitur 1')\n",
        "plt.ylabel('Fitur 2')\n",
        "plt.title('PCA - Ekstraksi Fitur Citra')\n",
        "plt.show()\n",
        "\n",
        "print(\"Contoh fitur setelah ekstraksi dengan PCA:\")\n",
        "print(sample_image_features)\n"
      ],
      "metadata": {
        "colab": {
          "base_uri": "https://localhost:8080/",
          "height": 594
        },
        "id": "2pp1QSJsqKar",
        "outputId": "9adae324-3abf-4b63-e29d-7a43e154b7dd"
      },
      "execution_count": null,
      "outputs": [
        {
          "output_type": "stream",
          "name": "stderr",
          "text": [
            "<ipython-input-12-25de7461bc12>:13: UserWarning: No data for colormapping provided via 'c'. Parameters 'cmap' will be ignored\n",
            "  plt.scatter(X_features[:, 0], X_features[:, 1], cmap='viridis')\n"
          ]
        },
        {
          "output_type": "display_data",
          "data": {
            "text/plain": [
              "<Figure size 640x480 with 2 Axes>"
            ],
            "image/png": "[encoded data removed]"
          },
          "metadata": {}
        },
        {
          "output_type": "stream",
          "name": "stdout",
          "text": [
            "Contoh fitur setelah ekstraksi dengan PCA:\n",
            "[ 122.25526033 -316.23384654  -51.13189082 -556.89808751  -49.20985256\n",
            " -217.06822947  233.70397644  188.81878291 -358.77870239  203.50629675\n",
            "  210.11818831 -243.71301728  -57.75448849  765.18574827 -185.13229908\n",
            "   -8.44219356]\n"
          ]
        }
      ]
    },
    {
      "cell_type": "markdown",
      "source": [
        "## 4. Buatlah data training dan data testing menggunakan rasio 70:30, 80:20, 90:10."
      ],
      "metadata": {
        "id": "6hexl0dijO2q"
      }
    },
    {
      "cell_type": "code",
      "source": [
        "from sklearn.model_selection import train_test_split\n",
        "\n",
        "# Membagi dataset menjadi data training dan data testing\n",
        "X_train_70, X_test_70, y_train_70, y_test_70 = train_test_split(X_features , y, test_size=0.3, random_state=42)  # Rasio 70:30\n",
        "X_train_80, X_test_80, y_train_80, y_test_80 = train_test_split(X_features , y, test_size=0.2, random_state=42)  # Rasio 80:20\n",
        "X_train_90, X_test_90, y_train_90, y_test_90 = train_test_split(X_features , y, test_size=0.1, random_state=42)  # Rasio 80:20"
      ],
      "metadata": {
        "id": "2V7xe8WUehnp"
      },
      "execution_count": null,
      "outputs": []
    },
    {
      "cell_type": "code",
      "source": [
        "# Menampilkan jumlah data setelah pembagian\n",
        "print(\"Jumlah data training dan data testing dengan rasio 70:30\")\n",
        "print(\"Data training:\", X_train_70.shape)\n",
        "print(\"Data testing:\", X_test_70.shape)\n",
        "\n",
        "print(\"Jumlah data training dan data testing dengan rasio 80:20\")\n",
        "print(\"Data training:\", X_train_80.shape)\n",
        "print(\"Data testing:\", X_test_80.shape)\n",
        "\n",
        "print(\"Jumlah data training dan data testing dengan rasio 90:10\")\n",
        "print(\"Data training:\", X_train_90.shape)\n",
        "print(\"Data testing:\", X_test_90.shape)\n"
      ],
      "metadata": {
        "colab": {
          "base_uri": "https://localhost:8080/"
        },
        "id": "F4B3XNpxj3jK",
        "outputId": "0e8921fd-cf51-4938-f677-5febcd0c008e"
      },
      "execution_count": null,
      "outputs": [
        {
          "output_type": "stream",
          "name": "stdout",
          "text": [
            "Jumlah data training dan data testing dengan rasio 70:30\n",
            "Data training: (49000, 16)\n",
            "Data testing: (21000, 16)\n",
            "Jumlah data training dan data testing dengan rasio 80:20\n",
            "Data training: (56000, 16)\n",
            "Data testing: (14000, 16)\n",
            "Jumlah data training dan data testing dengan rasio 90:10\n",
            "Data training: (63000, 16)\n",
            "Data testing: (7000, 16)\n"
          ]
        }
      ]
    },
    {
      "cell_type": "markdown",
      "source": [
        "### nilai x bukan x_features ( nilai pca 16)\n",
        "\n"
      ],
      "metadata": {
        "id": "xP_rnttu-an5"
      }
    },
    {
      "cell_type": "code",
      "source": [
        "# Menampilkan jumlah data setelah pembagian\n",
        "print(\"Jumlah data training dan data testing dengan rasio 70:30\")\n",
        "print(\"Data training:\", X_train_70.shape)\n",
        "print(\"Data testing:\", X_test_70.shape)\n",
        "\n",
        "print(\"Jumlah data training dan data testing dengan rasio 80:20\")\n",
        "print(\"Data training:\", X_train_80.shape)\n",
        "print(\"Data testing:\", X_test_80.shape)\n",
        "\n",
        "print(\"Jumlah data training dan data testing dengan rasio 90:10\")\n",
        "print(\"Data training:\", X_train_90.shape)\n",
        "print(\"Data testing:\", X_test_90.shape)\n"
      ],
      "metadata": {
        "colab": {
          "base_uri": "https://localhost:8080/"
        },
        "id": "-zv1SBAa9jlW",
        "outputId": "a9b9e84b-dbf6-4f9b-af32-85e31b2fb9bc"
      },
      "execution_count": null,
      "outputs": [
        {
          "output_type": "stream",
          "name": "stdout",
          "text": [
            "Jumlah data training dan data testing dengan rasio 70:30\n",
            "Data training: (49000, 16)\n",
            "Data testing: (21000, 16)\n",
            "Jumlah data training dan data testing dengan rasio 80:20\n",
            "Data training: (56000, 16)\n",
            "Data testing: (14000, 16)\n",
            "Jumlah data training dan data testing dengan rasio 90:10\n",
            "Data training: (63000, 16)\n",
            "Data testing: (7000, 16)\n"
          ]
        }
      ]
    },
    {
      "cell_type": "markdown",
      "source": [
        "### 5. Lakukan proses klasifikasi dengan menggunakan algoritma Naive Bayes dan SVM.\n",
        "\n",
        "- Anda diperbolehkan untuk melakukan tunning parameter.\n",
        "- Anda diperbolehkan mengeksplorasi jenis kernel yang digunakan pada SVM."
      ],
      "metadata": {
        "id": "2NtIWgBN_nmN"
      }
    },
    {
      "cell_type": "markdown",
      "source": [
        "### algoritma Naive Bayes"
      ],
      "metadata": {
        "id": "TlCEGXLV_Hlh"
      }
    },
    {
      "cell_type": "code",
      "source": [
        "from sklearn.naive_bayes import GaussianNB # class untuk model GaussianNB\n",
        "from sklearn.metrics import accuracy_score\n",
        "# Inisiasi obyek Gaussian\n",
        "gnb = GaussianNB()\n",
        "\n",
        "# Kita menggunakan split data training dan testing\n",
        "# yang sama dengan model multinomial\n",
        "\n",
        "# Fit model\n",
        "# Label y harus dalam bentu 1D atau (n_samples,)\n",
        "gnb.fit(X_train_70, y_train_70)\n",
        "\n",
        "# Prediksi dengan data training\n",
        "y_train_pred_gnb_70 = gnb.predict(X_train_70)\n",
        "\n",
        "# Evaluasi akurasi training\n",
        "acc_train_gnb_70 = accuracy_score(y_train_70, y_train_pred_gnb_70)\n",
        "\n",
        "# Prediksi test data\n",
        "y_test_pred_gnb_70 = gnb.predict(X_test_70)\n",
        "\n",
        "# Evaluasi model dengan metric akurasi\n",
        "acc_test_gnb_70 = accuracy_score(y_test_70, y_test_pred_gnb_70)\n",
        "\n",
        "# Print hasil evaluasi\n",
        "print(f'Hasil akurasi data train dengan n-component 16 Naive Bayes (Gaussian): {acc_train_gnb_70}')\n",
        "print(f'Hasil akurasi data test dengan n-component 16 Naive Bayes (Gaussian): {acc_test_gnb_70}')"
      ],
      "metadata": {
        "colab": {
          "base_uri": "https://localhost:8080/"
        },
        "id": "IONEkenbB4wy",
        "outputId": "c7d95fab-b6ab-4423-a9a5-47028fcc2a11"
      },
      "execution_count": null,
      "outputs": [
        {
          "output_type": "stream",
          "name": "stdout",
          "text": [
            "Hasil akurasi data train dengan n-component 16 Naive Bayes (Gaussian): 0.8197142857142857\n",
            "Hasil akurasi data test dengan n-component 16 Naive Bayes (Gaussian): 0.8187619047619048\n"
          ]
        }
      ]
    },
    {
      "cell_type": "code",
      "source": [
        "from sklearn.naive_bayes import GaussianNB # class untuk model GaussianNB\n",
        "from sklearn.metrics import accuracy_score\n",
        "# Inisiasi obyek Gaussian\n",
        "gnb = GaussianNB()\n",
        "\n",
        "# Kita menggunakan split data training dan testing\n",
        "# yang sama dengan model multinomial\n",
        "\n",
        "# Fit model\n",
        "# Label y harus dalam bentu 1D atau (n_samples,)\n",
        "gnb.fit(X_train_80, y_train_80)\n",
        "\n",
        "# Prediksi dengan data training\n",
        "y_train_pred_gnb_80 = gnb.predict(X_train_80)\n",
        "\n",
        "# Evaluasi akurasi training\n",
        "acc_train_gnb_80 = accuracy_score(y_train_80, y_train_pred_gnb_80)\n",
        "\n",
        "# Prediksi test data\n",
        "y_test_pred_gnb_80 = gnb.predict(X_test_80)\n",
        "\n",
        "# Evaluasi model dengan metric akurasi\n",
        "acc_test_gnb_80 = accuracy_score(y_test_80, y_test_pred_gnb_80)\n",
        "\n",
        "# Print hasil evaluasi\n",
        "print(f'Hasil akurasi data train dengan n-component 16 (Gaussian): {acc_train_gnb_80}')\n",
        "print(f'Hasil akurasi data test dengan n-component 16 (Gaussian): {acc_test_gnb_80}')"
      ],
      "metadata": {
        "colab": {
          "base_uri": "https://localhost:8080/"
        },
        "id": "x4e7DrcXHZTH",
        "outputId": "127f1761-aa37-44ab-b984-1dc95aad8c90"
      },
      "execution_count": null,
      "outputs": [
        {
          "output_type": "stream",
          "name": "stdout",
          "text": [
            "Hasil akurasi data train dengan n-component 16 (Gaussian): 0.8193214285714285\n",
            "Hasil akurasi data test dengan n-component 16 (Gaussian): 0.821\n"
          ]
        }
      ]
    },
    {
      "cell_type": "code",
      "source": [
        "from sklearn.naive_bayes import GaussianNB # class untuk model GaussianNB\n",
        "\n",
        "# Inisiasi obyek Gaussian\n",
        "gnb = GaussianNB()\n",
        "\n",
        "# Kita menggunakan split data training dan testing\n",
        "# yang sama dengan model multinomial\n",
        "\n",
        "# Fit model\n",
        "# Label y harus dalam bentu 1D atau (n_samples,)\n",
        "gnb.fit(X_train_90, y_train_90)\n",
        "\n",
        "# Prediksi dengan data training\n",
        "y_train_pred_gnb_90 = gnb.predict(X_train_90)\n",
        "\n",
        "# Evaluasi akurasi training\n",
        "acc_train_gnb_90 = accuracy_score(y_train_90, y_train_pred_gnb_90)\n",
        "\n",
        "# Prediksi test data\n",
        "y_test_pred_gnb_90 = gnb.predict(X_test_90)\n",
        "\n",
        "# Evaluasi model dengan metric akurasi\n",
        "acc_test_gnb_90 = accuracy_score(y_test_90, y_test_pred_gnb_90)\n",
        "\n",
        "# Print hasil evaluasi\n",
        "print(f'Hasil akurasi data train dengan n-component 16 (Gaussian): {acc_train_gnb_90}')\n",
        "print(f'Hasil akurasi data test dengan n-component 16 (Gaussian): {acc_test_gnb_90}')"
      ],
      "metadata": {
        "colab": {
          "base_uri": "https://localhost:8080/"
        },
        "id": "KVT-N4LLHutz",
        "outputId": "6e2e465c-331f-4a83-cd21-6c5136323c36"
      },
      "execution_count": null,
      "outputs": [
        {
          "output_type": "stream",
          "name": "stdout",
          "text": [
            "Hasil akurasi data train dengan n-component 16 (Gaussian): 0.819984126984127\n",
            "Hasil akurasi data test dengan n-component 16 (Gaussian): 0.8194285714285714\n"
          ]
        }
      ]
    },
    {
      "cell_type": "markdown",
      "source": [
        "### SVM ngan rasio 80:20"
      ],
      "metadata": {
        "id": "8ibybV7j_Nr6"
      }
    },
    {
      "cell_type": "code",
      "source": [
        "from sklearn.svm import SVC\n",
        "from sklearn.metrics import accuracy_score\n",
        "\n",
        "# Inisialisasi model SVM dengan kernel RBF\n",
        "svm_rbf_model = SVC(kernel='rbf', C=1.0)\n",
        "\n",
        "# Latih model SVM pada data training\n",
        "svm_rbf_model.fit(X_train_80, y_train_80)\n",
        "\n",
        "# Prediksi label untuk data training dan data testing\n",
        "y_train_pred_svm = svm_rbf_model.predict(X_train_80)\n",
        "y_test_pred_svm = svm_rbf_model.predict(X_test_80)\n",
        "\n",
        "# Evaluasi performa model SVM\n",
        "accuracy_train_svm = accuracy_score(y_train_80, y_train_pred_svm)\n",
        "accuracy_test_svm = accuracy_score(y_test_80, y_test_pred_svm)\n",
        "\n",
        "print(\"Akurasi SVM pada Data Training:\", accuracy_train_svm)\n",
        "print(\"Akurasi SVM pada Data Testing:\", accuracy_test_svm)"
      ],
      "metadata": {
        "colab": {
          "base_uri": "https://localhost:8080/"
        },
        "id": "bIyPMUGZ-Dfi",
        "outputId": "ce131c3f-8835-40ef-89e8-12471aa49d6c"
      },
      "execution_count": null,
      "outputs": [
        {
          "output_type": "stream",
          "name": "stdout",
          "text": [
            "Akurasi SVM pada Data Training: 0.976375\n",
            "Akurasi SVM pada Data Testing: 0.9680714285714286\n"
          ]
        }
      ]
    },
    {
      "cell_type": "markdown",
      "source": [
        "Nilai akurasi yang di berikan menunjukkan bahwa model SVM dengan kernel RBF yang dilatih pada data training yang telah di-PCA memiliki tingkat akurasi yang tinggi.\n",
        "\n",
        "Dengan akurasi sebesar 97,6% pada data training, model memiliki kemampuan yang sangat baik dalam mengklasifikasikan data training yang telah di-PCA. Hal ini menunjukkan bahwa model mampu dengan akurat mempelajari pola-pola yang ada dalam data training dan menggeneralisasikannya dengan baik.\n",
        "\n",
        "dengan akurasi sebesar 97,6% pada data testing, model juga memiliki tingkat akurasi yang tinggi saat diterapkan pada data yang tidak digunakan dalam proses pelatihan. Ini menunjukkan bahwa model mampu secara efektif menggeneralisasikan pengetahuannya ke data baru yang belum pernah dilihat sebelumnya.\n",
        "\n",
        "Dengan demikian, hasil tersebut menunjukkan bahwa model SVM dengan kernel RBF dan PCA telah berhasil dalam melakukan klasifikasi dengan tingkat akurasi yang tinggi pada data training dan data testing."
      ],
      "metadata": {
        "id": "73IG6vPkFX4p"
      }
    },
    {
      "cell_type": "markdown",
      "source": [
        "### SVM Rasio 70-30"
      ],
      "metadata": {
        "id": "9fqWlDqWduWy"
      }
    },
    {
      "cell_type": "code",
      "source": [
        "\n",
        "# Inisialisasi model SVM dengan kernel RBF\n",
        "svm_rbf_model = SVC(kernel='rbf', C=1.0)\n",
        "\n",
        "# Latih model SVM pada data training\n",
        "svm_rbf_model.fit(X_train_70, y_train_70)\n",
        "\n",
        "# Prediksi label untuk data training dan data testing\n",
        "y_train_pred_svm = svm_rbf_model.predict(X_train_70)\n",
        "y_test_pred_svm = svm_rbf_model.predict(X_test_70)\n",
        "\n",
        "# Evaluasi performa model SVM\n",
        "accuracy_train_svm = accuracy_score(y_train_70, y_train_pred_svm)\n",
        "accuracy_test_svm = accuracy_score(y_test_70, y_test_pred_svm)\n",
        "\n",
        "print(\"Akurasi SVM pada Data Training:\", accuracy_train_svm)\n",
        "print(\"Akurasi SVM pada Data Testing:\", accuracy_test_svm)"
      ],
      "metadata": {
        "colab": {
          "base_uri": "https://localhost:8080/"
        },
        "id": "ktrO5kPkd0yO",
        "outputId": "7bce90b9-d072-49e2-b2e4-18433578a613"
      },
      "execution_count": null,
      "outputs": [
        {
          "output_type": "stream",
          "name": "stdout",
          "text": [
            "Akurasi SVM pada Data Training: 0.9755918367346939\n",
            "Akurasi SVM pada Data Testing: 0.9678095238095238\n"
          ]
        }
      ]
    },
    {
      "cell_type": "markdown",
      "source": [
        "Nilai akurasi yang di berikan menunjukkan bahwa model SVM dengan kernel RBF yang dilatih pada data training yang telah di-PCA memiliki tingkat akurasi yang tinggi.\n",
        "\n",
        "Dengan akurasi sebesar 97,5% pada data training, model memiliki kemampuan yang sangat baik dalam mengklasifikasikan data training yang telah di-PCA. Hal ini menunjukkan bahwa model mampu dengan akurat mempelajari pola-pola yang ada dalam data training dan menggeneralisasikannya dengan baik.\n",
        "\n",
        "dengan akurasi sebesar 96,7% pada data testing, model juga memiliki tingkat akurasi yang tinggi saat diterapkan pada data yang tidak digunakan dalam proses pelatihan. Ini menunjukkan bahwa model mampu secara efektif menggeneralisasikan pengetahuannya ke data baru yang belum pernah dilihat sebelumnya.\n",
        "\n",
        "Dengan demikian, hasil tersebut menunjukkan bahwa model SVM dengan kernel RBF dan PCA telah berhasil dalam melakukan klasifikasi dengan tingkat akurasi yang tinggi pada data training dan data testing."
      ],
      "metadata": {
        "id": "IUvKr3BDgVpQ"
      }
    },
    {
      "cell_type": "markdown",
      "source": [
        "### SVM Rasio 90-10"
      ],
      "metadata": {
        "id": "JB-70mWHfbVB"
      }
    },
    {
      "cell_type": "code",
      "source": [
        "# Inisialisasi model SVM dengan kernel RBF\n",
        "svm_rbf_model = SVC(kernel='rbf', C=1.0)\n",
        "\n",
        "# Latih model SVM pada data training\n",
        "svm_rbf_model.fit(X_train_90, y_train_90)\n",
        "\n",
        "# Prediksi label untuk data training dan data testing\n",
        "y_train_pred_svm = svm_rbf_model.predict(X_train_90)\n",
        "y_test_pred_svm = svm_rbf_model.predict(X_test_90)\n",
        "\n",
        "# Evaluasi performa model SVM\n",
        "accuracy_train_svm = accuracy_score(y_train_90, y_train_pred_svm)\n",
        "accuracy_test_svm = accuracy_score(y_test_90, y_test_pred_svm)\n",
        "\n",
        "print(\"Akurasi SVM pada Data Training:\", accuracy_train_svm)\n",
        "print(\"Akurasi SVM pada Data Testing:\", accuracy_test_svm)"
      ],
      "metadata": {
        "colab": {
          "base_uri": "https://localhost:8080/"
        },
        "id": "nrUk57dSfeX8",
        "outputId": "87bfc543-3668-49bc-8418-ad75c0a85cfe"
      },
      "execution_count": null,
      "outputs": [
        {
          "output_type": "stream",
          "name": "stdout",
          "text": [
            "Akurasi SVM pada Data Training: 0.976920634920635\n",
            "Akurasi SVM pada Data Testing: 0.9667142857142857\n"
          ]
        }
      ]
    },
    {
      "cell_type": "markdown",
      "source": [
        "Nilai akurasi yang di berikan menunjukkan bahwa model SVM dengan kernel RBF yang dilatih pada data training yang telah di-PCA memiliki tingkat akurasi yang tinggi.\n",
        "\n",
        "Dengan akurasi sebesar 976% pada data training, model memiliki kemampuan yang sangat baik dalam mengklasifikasikan data training yang telah di-PCA. Hal ini menunjukkan bahwa model mampu dengan akurat mempelajari pola-pola yang ada dalam data training dan menggeneralisasikannya dengan baik.\n",
        "\n",
        "dengan akurasi sebesar 96,6% pada data testing, model juga memiliki tingkat akurasi yang tinggi saat diterapkan pada data yang tidak digunakan dalam proses pelatihan. Ini menunjukkan bahwa model mampu secara efektif menggeneralisasikan pengetahuannya ke data baru yang belum pernah dilihat sebelumnya.\n",
        "\n",
        "Dengan demikian, hasil tersebut menunjukkan bahwa model SVM dengan kernel RBF dan PCA telah berhasil dalam melakukan klasifikasi dengan tingkat akurasi yang tinggi pada data training dan data testing."
      ],
      "metadata": {
        "id": "WQLIGFD7gdWN"
      }
    },
    {
      "cell_type": "markdown",
      "source": [
        "## 6. Evaluasi model yang Anda buat terhadap data training dan data testing.\n",
        "\n",
        "* Gunakan metric accuracy untuk mengetahui tingkat akurasi data training dan data testing.\n",
        "* Gunakan fungsi classification_report untuk mengetahui performa model secara holistik.\n",
        "* Gunakan confusion matrix untuk mengetahui tingkat ketepatan pelabelan.\n",
        "\n"
      ],
      "metadata": {
        "id": "lU3jYCjs-h0v"
      }
    },
    {
      "cell_type": "markdown",
      "source": [
        "* Gunakan metric accuracy untuk mengetahui tingkat akurasi data training dan data testing."
      ],
      "metadata": {
        "id": "adtx610OAHIM"
      }
    },
    {
      "cell_type": "markdown",
      "source": [
        "###  algoritma Naive Bayes (Gaussian) dan SVM  dengan rasio 70:30"
      ],
      "metadata": {
        "id": "kxpcj-X5gt6U"
      }
    },
    {
      "cell_type": "code",
      "source": [
        "from sklearn.metrics import accuracy_score, classification_report, confusion_matrix\n",
        "\n",
        "# Print accuracy\n",
        "print(\"Naive Bayes Accuracy:\")\n",
        "print(\"Training Accuracy:\", acc_train_gnb_70)\n",
        "print(\"Testing Accuracy:\", acc_test_gnb_70)\n",
        "print()\n",
        "print(\"SVM Accuracy:\")\n",
        "print(\"Training Accuracy:\", accuracy_train_svm)\n",
        "print(\"Testing Accuracy:\", accuracy_test_svm)\n",
        "print()\n",
        "\n",
        "y_test_70 = y_test_70[:7000] # menyesuaikan jumlah data, jika lebih maka akan eror\n",
        "# Classification report for Naive Bayes model\n",
        "nb_report = classification_report(y_test_70, y_test_pred_gnb_70)\n",
        "print(\"Naive Bayes Classification Report:\")\n",
        "print(nb_report)\n",
        "print()\n",
        "\n",
        "# Classification report for SVM model\n",
        "svm_report = classification_report(y_test_70, y_test_pred_svm)\n",
        "print(\"SVM Classification Report:\")\n",
        "print(svm_report)\n",
        "print()\n",
        "\n",
        "# Confusion matrix for Naive Bayes model\n",
        "nb_confusion = confusion_matrix(y_test_70, y_test_pred_gnb_90)\n",
        "print(\"Naive Bayes Confusion Matrix:\")\n",
        "print(nb_confusion)\n",
        "print()\n",
        "\n",
        "# Confusion matrix for SVM model\n",
        "svm_confusion = confusion_matrix(y_test_70, y_test_pred_svm)\n",
        "print(\"SVM Confusion Matrix:\")\n",
        "print(svm_confusion)\n",
        "print()"
      ],
      "metadata": {
        "colab": {
          "base_uri": "https://localhost:8080/",
          "height": 529
        },
        "id": "VymMjLipgz2H",
        "outputId": "0274ae9e-53ab-43e4-b76f-f5b0e8435efa"
      },
      "execution_count": null,
      "outputs": [
        {
          "output_type": "stream",
          "name": "stdout",
          "text": [
            "Naive Bayes Accuracy:\n",
            "Training Accuracy: 0.8197142857142857\n",
            "Testing Accuracy: 0.8187619047619048\n",
            "\n",
            "SVM Accuracy:\n",
            "Training Accuracy: 0.976920634920635\n",
            "Testing Accuracy: 0.9667142857142857\n",
            "\n"
          ]
        },
        {
          "output_type": "error",
          "ename": "ValueError",
          "evalue": "ignored",
          "traceback": [
            "\u001b[0;31m---------------------------------------------------------------------------\u001b[0m",
            "\u001b[0;31mValueError\u001b[0m                                Traceback (most recent call last)",
            "\u001b[0;32m<ipython-input-43-03a705ec89af>\u001b[0m in \u001b[0;36m<cell line: 15>\u001b[0;34m()\u001b[0m\n\u001b[1;32m     13\u001b[0m \u001b[0my_test_70\u001b[0m \u001b[0;34m=\u001b[0m \u001b[0my_test_70\u001b[0m\u001b[0;34m[\u001b[0m\u001b[0;34m:\u001b[0m\u001b[0;36m7000\u001b[0m\u001b[0;34m]\u001b[0m \u001b[0;31m# menyesuaikan jumlah data, jika lebih maka akan eror\u001b[0m\u001b[0;34m\u001b[0m\u001b[0;34m\u001b[0m\u001b[0m\n\u001b[1;32m     14\u001b[0m \u001b[0;31m# Classification report for Naive Bayes model\u001b[0m\u001b[0;34m\u001b[0m\u001b[0;34m\u001b[0m\u001b[0m\n\u001b[0;32m---> 15\u001b[0;31m \u001b[0mnb_report\u001b[0m \u001b[0;34m=\u001b[0m \u001b[0mclassification_report\u001b[0m\u001b[0;34m(\u001b[0m\u001b[0my_test_70\u001b[0m\u001b[0;34m,\u001b[0m \u001b[0my_test_pred_gnb_70\u001b[0m\u001b[0;34m)\u001b[0m\u001b[0;34m\u001b[0m\u001b[0;34m\u001b[0m\u001b[0m\n\u001b[0m\u001b[1;32m     16\u001b[0m \u001b[0mprint\u001b[0m\u001b[0;34m(\u001b[0m\u001b[0;34m\"Naive Bayes Classification Report:\"\u001b[0m\u001b[0;34m)\u001b[0m\u001b[0;34m\u001b[0m\u001b[0;34m\u001b[0m\u001b[0m\n\u001b[1;32m     17\u001b[0m \u001b[0mprint\u001b[0m\u001b[0;34m(\u001b[0m\u001b[0mnb_report\u001b[0m\u001b[0;34m)\u001b[0m\u001b[0;34m\u001b[0m\u001b[0;34m\u001b[0m\u001b[0m\n",
            "\u001b[0;32m/usr/local/lib/python3.10/dist-packages/sklearn/metrics/_classification.py\u001b[0m in \u001b[0;36mclassification_report\u001b[0;34m(y_true, y_pred, labels, target_names, sample_weight, digits, output_dict, zero_division)\u001b[0m\n\u001b[1;32m   2308\u001b[0m     \"\"\"\n\u001b[1;32m   2309\u001b[0m \u001b[0;34m\u001b[0m\u001b[0m\n\u001b[0;32m-> 2310\u001b[0;31m     \u001b[0my_type\u001b[0m\u001b[0;34m,\u001b[0m \u001b[0my_true\u001b[0m\u001b[0;34m,\u001b[0m \u001b[0my_pred\u001b[0m \u001b[0;34m=\u001b[0m \u001b[0m_check_targets\u001b[0m\u001b[0;34m(\u001b[0m\u001b[0my_true\u001b[0m\u001b[0;34m,\u001b[0m \u001b[0my_pred\u001b[0m\u001b[0;34m)\u001b[0m\u001b[0;34m\u001b[0m\u001b[0;34m\u001b[0m\u001b[0m\n\u001b[0m\u001b[1;32m   2311\u001b[0m \u001b[0;34m\u001b[0m\u001b[0m\n\u001b[1;32m   2312\u001b[0m     \u001b[0;32mif\u001b[0m \u001b[0mlabels\u001b[0m \u001b[0;32mis\u001b[0m \u001b[0;32mNone\u001b[0m\u001b[0;34m:\u001b[0m\u001b[0;34m\u001b[0m\u001b[0;34m\u001b[0m\u001b[0m\n",
            "\u001b[0;32m/usr/local/lib/python3.10/dist-packages/sklearn/metrics/_classification.py\u001b[0m in \u001b[0;36m_check_targets\u001b[0;34m(y_true, y_pred)\u001b[0m\n\u001b[1;32m     84\u001b[0m     \u001b[0my_pred\u001b[0m \u001b[0;34m:\u001b[0m \u001b[0marray\u001b[0m \u001b[0;32mor\u001b[0m \u001b[0mindicator\u001b[0m \u001b[0mmatrix\u001b[0m\u001b[0;34m\u001b[0m\u001b[0;34m\u001b[0m\u001b[0m\n\u001b[1;32m     85\u001b[0m     \"\"\"\n\u001b[0;32m---> 86\u001b[0;31m     \u001b[0mcheck_consistent_length\u001b[0m\u001b[0;34m(\u001b[0m\u001b[0my_true\u001b[0m\u001b[0;34m,\u001b[0m \u001b[0my_pred\u001b[0m\u001b[0;34m)\u001b[0m\u001b[0;34m\u001b[0m\u001b[0;34m\u001b[0m\u001b[0m\n\u001b[0m\u001b[1;32m     87\u001b[0m     \u001b[0mtype_true\u001b[0m \u001b[0;34m=\u001b[0m \u001b[0mtype_of_target\u001b[0m\u001b[0;34m(\u001b[0m\u001b[0my_true\u001b[0m\u001b[0;34m,\u001b[0m \u001b[0minput_name\u001b[0m\u001b[0;34m=\u001b[0m\u001b[0;34m\"y_true\"\u001b[0m\u001b[0;34m)\u001b[0m\u001b[0;34m\u001b[0m\u001b[0;34m\u001b[0m\u001b[0m\n\u001b[1;32m     88\u001b[0m     \u001b[0mtype_pred\u001b[0m \u001b[0;34m=\u001b[0m \u001b[0mtype_of_target\u001b[0m\u001b[0;34m(\u001b[0m\u001b[0my_pred\u001b[0m\u001b[0;34m,\u001b[0m \u001b[0minput_name\u001b[0m\u001b[0;34m=\u001b[0m\u001b[0;34m\"y_pred\"\u001b[0m\u001b[0;34m)\u001b[0m\u001b[0;34m\u001b[0m\u001b[0;34m\u001b[0m\u001b[0m\n",
            "\u001b[0;32m/usr/local/lib/python3.10/dist-packages/sklearn/utils/validation.py\u001b[0m in \u001b[0;36mcheck_consistent_length\u001b[0;34m(*arrays)\u001b[0m\n\u001b[1;32m    395\u001b[0m     \u001b[0muniques\u001b[0m \u001b[0;34m=\u001b[0m \u001b[0mnp\u001b[0m\u001b[0;34m.\u001b[0m\u001b[0munique\u001b[0m\u001b[0;34m(\u001b[0m\u001b[0mlengths\u001b[0m\u001b[0;34m)\u001b[0m\u001b[0;34m\u001b[0m\u001b[0;34m\u001b[0m\u001b[0m\n\u001b[1;32m    396\u001b[0m     \u001b[0;32mif\u001b[0m \u001b[0mlen\u001b[0m\u001b[0;34m(\u001b[0m\u001b[0muniques\u001b[0m\u001b[0;34m)\u001b[0m \u001b[0;34m>\u001b[0m \u001b[0;36m1\u001b[0m\u001b[0;34m:\u001b[0m\u001b[0;34m\u001b[0m\u001b[0;34m\u001b[0m\u001b[0m\n\u001b[0;32m--> 397\u001b[0;31m         raise ValueError(\n\u001b[0m\u001b[1;32m    398\u001b[0m             \u001b[0;34m\"Found input variables with inconsistent numbers of samples: %r\"\u001b[0m\u001b[0;34m\u001b[0m\u001b[0;34m\u001b[0m\u001b[0m\n\u001b[1;32m    399\u001b[0m             \u001b[0;34m%\u001b[0m \u001b[0;34m[\u001b[0m\u001b[0mint\u001b[0m\u001b[0;34m(\u001b[0m\u001b[0ml\u001b[0m\u001b[0;34m)\u001b[0m \u001b[0;32mfor\u001b[0m \u001b[0ml\u001b[0m \u001b[0;32min\u001b[0m \u001b[0mlengths\u001b[0m\u001b[0;34m]\u001b[0m\u001b[0;34m\u001b[0m\u001b[0;34m\u001b[0m\u001b[0m\n",
            "\u001b[0;31mValueError\u001b[0m: Found input variables with inconsistent numbers of samples: [7000, 21000]"
          ]
        }
      ]
    },
    {
      "cell_type": "code",
      "source": [
        "from sklearn.metrics import accuracy_score, classification_report, confusion_matrix\n",
        "\n",
        "# Print accuracy\n",
        "print(\"Naive Bayes Accuracy:\")\n",
        "print(\"Training Accuracy:\", acc_train_gnb_90)\n",
        "print(\"Testing Accuracy:\", acc_test_gnb_90)\n",
        "print()\n",
        "print(\"SVM Accuracy:\")\n",
        "print(\"Training Accuracy:\", accuracy_train_svm)\n",
        "print(\"Testing Accuracy:\", accuracy_test_svm)\n",
        "print()\n",
        "\n",
        "# Classification report for Naive Bayes model\n",
        "nb_report = classification_report(y_test_90, y_test_pred_gnb_90)\n",
        "print(\"Naive Bayes Classification Report:\")\n",
        "print(nb_report)\n",
        "print()\n",
        "\n",
        "# Classification report for SVM model\n",
        "svm_report = classification_report(y_test_90, y_test_pred_svm)\n",
        "print(\"SVM Classification Report:\")\n",
        "print(svm_report)\n",
        "print()\n",
        "\n",
        "# Confusion matrix for Naive Bayes model\n",
        "nb_confusion = confusion_matrix(y_test_90, y_test_pred_gnb_90)\n",
        "print(\"Naive Bayes Confusion Matrix:\")\n",
        "print(nb_confusion)\n",
        "print()\n",
        "\n",
        "# Confusion matrix for SVM model\n",
        "svm_confusion = confusion_matrix(y_test_90, y_test_pred_svm)\n",
        "print(\"SVM Confusion Matrix:\")\n",
        "print(svm_confusion)\n",
        "print()"
      ],
      "metadata": {
        "colab": {
          "base_uri": "https://localhost:8080/"
        },
        "id": "AItzLylPhRsD",
        "outputId": "a2a4b6f5-0240-41ec-91b0-14bd70bbafae"
      },
      "execution_count": null,
      "outputs": [
        {
          "output_type": "stream",
          "name": "stdout",
          "text": [
            "Naive Bayes Accuracy:\n",
            "Training Accuracy: 0.819984126984127\n",
            "Testing Accuracy: 0.8194285714285714\n",
            "\n",
            "SVM Accuracy:\n",
            "Training Accuracy: 0.976920634920635\n",
            "Testing Accuracy: 0.9667142857142857\n",
            "\n",
            "Naive Bayes Classification Report:\n",
            "              precision    recall  f1-score   support\n",
            "\n",
            "           0       0.92      0.90      0.91       683\n",
            "           1       0.87      0.94      0.90       800\n",
            "           2       0.83      0.78      0.81       674\n",
            "           3       0.78      0.77      0.77       760\n",
            "           4       0.82      0.80      0.81       611\n",
            "           5       0.65      0.78      0.71       658\n",
            "           6       0.87      0.84      0.86       677\n",
            "           7       0.90      0.85      0.87       724\n",
            "           8       0.83      0.75      0.79       693\n",
            "           9       0.76      0.76      0.76       720\n",
            "\n",
            "    accuracy                           0.82      7000\n",
            "   macro avg       0.82      0.82      0.82      7000\n",
            "weighted avg       0.82      0.82      0.82      7000\n",
            "\n",
            "\n",
            "SVM Classification Report:\n",
            "              precision    recall  f1-score   support\n",
            "\n",
            "           0       0.99      0.98      0.99       683\n",
            "           1       0.97      0.99      0.98       800\n",
            "           2       0.95      0.98      0.96       674\n",
            "           3       0.96      0.94      0.95       760\n",
            "           4       0.97      0.97      0.97       611\n",
            "           5       0.97      0.97      0.97       658\n",
            "           6       0.98      0.98      0.98       677\n",
            "           7       0.97      0.96      0.97       724\n",
            "           8       0.96      0.95      0.95       693\n",
            "           9       0.95      0.95      0.95       720\n",
            "\n",
            "    accuracy                           0.97      7000\n",
            "   macro avg       0.97      0.97      0.97      7000\n",
            "weighted avg       0.97      0.97      0.97      7000\n",
            "\n",
            "\n",
            "Naive Bayes Confusion Matrix:\n",
            "[[617   0   4   3   0  29  24   3   2   1]\n",
            " [  0 750  16   4   0  18   3   1   7   1]\n",
            " [  8  15 529  26   5  18  25   9  28  11]\n",
            " [  5   8  22 584   0  73   1  10  33  24]\n",
            " [  2   5  12   0 487  14  11   4   3  73]\n",
            " [ 10   6   4  73  14 513  10   4  15   9]\n",
            " [ 14  19  17   3   7  42 572   0   3   0]\n",
            " [  1  34   8   1  12   3   1 615   7  42]\n",
            " [  6  22   8  51  10  50  10   5 523   8]\n",
            " [  5   8  14   8  61  31   2  35  10 546]]\n",
            "\n",
            "SVM Confusion Matrix:\n",
            "[[671   0   2   0   1   1   3   0   3   2]\n",
            " [  0 789   4   2   1   0   0   2   0   2]\n",
            " [  1   2 659   1   1   0   2   3   5   0]\n",
            " [  0   3  10 718   1   5   1   4  11   7]\n",
            " [  1   0   3   0 593   0   0   1   0  13]\n",
            " [  1   0   1   9   0 635   4   0   8   0]\n",
            " [  1   0   2   0   3   5 665   0   1   0]\n",
            " [  0   7   6   0   4   0   0 697   0  10]\n",
            " [  0   4   4  13   2   4   4   3 657   2]\n",
            " [  3   5   1   7   7   4   1   7   2 683]]\n",
            "\n"
          ]
        }
      ]
    },
    {
      "cell_type": "markdown",
      "source": [
        "#### algoritma Naive Bayes (Gaussian) dan SVM  dengan rasio 80:20"
      ],
      "metadata": {
        "id": "KyqypyaidWem"
      }
    },
    {
      "cell_type": "code",
      "source": [
        "from sklearn.metrics import accuracy_score, classification_report, confusion_matrix\n",
        "\n",
        "# Print accuracy\n",
        "print(\"Naive Bayes Accuracy:\")\n",
        "print(\"Training Accuracy:\", acc_train_gnb_80)\n",
        "print(\"Testing Accuracy:\", acc_test_gnb_80)\n",
        "print()\n",
        "print(\"SVM Accuracy:\")\n",
        "print(\"Training Accuracy:\", accuracy_train_svm)\n",
        "print(\"Testing Accuracy:\", accuracy_test_svm)\n",
        "print()\n",
        "\n",
        "# Classification report for Naive Bayes model\n",
        "nb_report = classification_report(y_test_80, y_test_pred_gnb_80)\n",
        "print(\"Naive Bayes Classification Report:\")\n",
        "print(nb_report)\n",
        "print()\n",
        "\n",
        "# Classification report for SVM model\n",
        "svm_report = classification_report(y_test_80, y_test_pred_svm)\n",
        "print(\"SVM Classification Report:\")\n",
        "print(svm_report)\n",
        "print()\n",
        "\n",
        "# Confusion matrix for Naive Bayes model\n",
        "nb_confusion = confusion_matrix(y_test_80, y_test_pred_gnb_80)\n",
        "print(\"Naive Bayes Confusion Matrix:\")\n",
        "print(nb_confusion)\n",
        "print()\n",
        "\n",
        "# Confusion matrix for SVM model\n",
        "svm_confusion = confusion_matrix(y_test_80, y_test_pred_svm)\n",
        "print(\"SVM Confusion Matrix:\")\n",
        "print(svm_confusion)\n",
        "print()"
      ],
      "metadata": {
        "colab": {
          "base_uri": "https://localhost:8080/"
        },
        "id": "maN0FDsc-13w",
        "outputId": "54141ce5-0336-44ea-f27c-f50057ee2139"
      },
      "execution_count": null,
      "outputs": [
        {
          "output_type": "stream",
          "name": "stdout",
          "text": [
            "Naive Bayes Accuracy:\n",
            "Training Accuracy: 0.8193214285714285\n",
            "Testing Accuracy: 0.821\n",
            "\n",
            "SVM Accuracy:\n",
            "Training Accuracy: 0.976375\n",
            "Testing Accuracy: 0.9680714285714286\n",
            "\n",
            "Naive Bayes Classification Report:\n",
            "              precision    recall  f1-score   support\n",
            "\n",
            "           0       0.93      0.90      0.91      1343\n",
            "           1       0.88      0.93      0.90      1600\n",
            "           2       0.84      0.80      0.82      1380\n",
            "           3       0.77      0.77      0.77      1433\n",
            "           4       0.82      0.80      0.81      1295\n",
            "           5       0.66      0.77      0.71      1273\n",
            "           6       0.88      0.86      0.87      1396\n",
            "           7       0.89      0.85      0.87      1503\n",
            "           8       0.82      0.76      0.79      1357\n",
            "           9       0.74      0.76      0.75      1420\n",
            "\n",
            "    accuracy                           0.82     14000\n",
            "   macro avg       0.82      0.82      0.82     14000\n",
            "weighted avg       0.82      0.82      0.82     14000\n",
            "\n",
            "\n",
            "SVM Classification Report:\n",
            "              precision    recall  f1-score   support\n",
            "\n",
            "           0       0.99      0.98      0.99      1343\n",
            "           1       0.98      0.99      0.98      1600\n",
            "           2       0.96      0.98      0.97      1380\n",
            "           3       0.96      0.95      0.95      1433\n",
            "           4       0.97      0.97      0.97      1295\n",
            "           5       0.97      0.97      0.97      1273\n",
            "           6       0.98      0.98      0.98      1396\n",
            "           7       0.97      0.96      0.97      1503\n",
            "           8       0.96      0.95      0.96      1357\n",
            "           9       0.95      0.94      0.95      1420\n",
            "\n",
            "    accuracy                           0.97     14000\n",
            "   macro avg       0.97      0.97      0.97     14000\n",
            "weighted avg       0.97      0.97      0.97     14000\n",
            "\n",
            "\n",
            "Naive Bayes Confusion Matrix:\n",
            "[[1210    0   11    8    1   50   47    7    7    2]\n",
            " [   0 1491   33   12    1   36    4    4   16    3]\n",
            " [  17   30 1099   42   12   35   36   27   59   23]\n",
            " [   8   13   32 1106    0  130    8   18   68   50]\n",
            " [   3   12   19    0 1033   31   22    6    4  165]\n",
            " [  17   11   12  147   27  975   23   11   32   18]\n",
            " [  25   29   36   12   20   71 1197    0    5    1]\n",
            " [   7   60   22    2   17   13    1 1275   14   92]\n",
            " [   9   39   18  100   20   90   16   11 1032   22]\n",
            " [   7   12   32   13  132   55    5   67   21 1076]]\n",
            "\n",
            "SVM Confusion Matrix:\n",
            "[[1321    1    6    0    1    2    4    1    5    2]\n",
            " [   0 1578    5    9    2    0    0    3    1    2]\n",
            " [   1    3 1349    4    2    1    4    7    9    0]\n",
            " [   0    4   15 1360    1   14    2    8   18   11]\n",
            " [   3    1    4    0 1255    0    2    3    0   27]\n",
            " [   1    1    3   18    3 1232    5    0    9    1]\n",
            " [   1    0    4    0    7    7 1375    0    2    0]\n",
            " [   1    6    8    1    4    2    0 1450    5   26]\n",
            " [   1    7    9   17    4   11    6    4 1292    6]\n",
            " [   7    8    2   13   21    7    1   14    6 1341]]\n",
            "\n"
          ]
        }
      ]
    },
    {
      "cell_type": "markdown",
      "source": [
        "### 7. Tampilkan citra data testing berserta hasil pelabelannya. Anda dapat menggunakan Job Sheet 03 sebagai acuan."
      ],
      "metadata": {
        "id": "LvyoNkLVCbtm"
      }
    },
    {
      "cell_type": "code",
      "source": [
        "import matplotlib.pyplot as plt\n",
        "\n",
        "# Menampilkan 15 citra pertama dari data testing berserta hasil pelabelannya\n",
        "plt.figure(figsize=(12, 6))\n",
        "for i in range(40):\n",
        "    plt.subplot(3, 5, i+1)\n",
        "    plt.imshow(X_test_90[i].reshape(4, 4), cmap='gray')  # Menggunakan X_test_70[i] dan reshape citra menjadi (28, 28)\n",
        "    plt.title(f\"True: {y_test_90[i]}\\nPred: { y_test_pred_gnb_90[i]}\")\n",
        "    plt.axis('off')\n",
        "\n",
        "plt.tight_layout()\n",
        "plt.show()"
      ],
      "metadata": {
        "colab": {
          "base_uri": "https://localhost:8080/",
          "height": 691
        },
        "id": "i9_CXfEt-UuI",
        "outputId": "d54b2a58-302e-44d6-9345-8425cbad924f"
      },
      "execution_count": null,
      "outputs": [
        {
          "output_type": "error",
          "ename": "KeyError",
          "evalue": "ignored",
          "traceback": [
            "\u001b[0;31m---------------------------------------------------------------------------\u001b[0m",
            "\u001b[0;31mKeyError\u001b[0m                                  Traceback (most recent call last)",
            "\u001b[0;32m/usr/local/lib/python3.10/dist-packages/pandas/core/indexes/base.py\u001b[0m in \u001b[0;36mget_loc\u001b[0;34m(self, key, method, tolerance)\u001b[0m\n\u001b[1;32m   3801\u001b[0m             \u001b[0;32mtry\u001b[0m\u001b[0;34m:\u001b[0m\u001b[0;34m\u001b[0m\u001b[0;34m\u001b[0m\u001b[0m\n\u001b[0;32m-> 3802\u001b[0;31m                 \u001b[0;32mreturn\u001b[0m \u001b[0mself\u001b[0m\u001b[0;34m.\u001b[0m\u001b[0m_engine\u001b[0m\u001b[0;34m.\u001b[0m\u001b[0mget_loc\u001b[0m\u001b[0;34m(\u001b[0m\u001b[0mcasted_key\u001b[0m\u001b[0;34m)\u001b[0m\u001b[0;34m\u001b[0m\u001b[0;34m\u001b[0m\u001b[0m\n\u001b[0m\u001b[1;32m   3803\u001b[0m             \u001b[0;32mexcept\u001b[0m \u001b[0mKeyError\u001b[0m \u001b[0;32mas\u001b[0m \u001b[0merr\u001b[0m\u001b[0;34m:\u001b[0m\u001b[0;34m\u001b[0m\u001b[0;34m\u001b[0m\u001b[0m\n",
            "\u001b[0;32m/usr/local/lib/python3.10/dist-packages/pandas/_libs/index.pyx\u001b[0m in \u001b[0;36mpandas._libs.index.IndexEngine.get_loc\u001b[0;34m()\u001b[0m\n",
            "\u001b[0;32m/usr/local/lib/python3.10/dist-packages/pandas/_libs/index.pyx\u001b[0m in \u001b[0;36mpandas._libs.index.IndexEngine.get_loc\u001b[0;34m()\u001b[0m\n",
            "\u001b[0;32mpandas/_libs/hashtable_class_helper.pxi\u001b[0m in \u001b[0;36mpandas._libs.hashtable.Int64HashTable.get_item\u001b[0;34m()\u001b[0m\n",
            "\u001b[0;32mpandas/_libs/hashtable_class_helper.pxi\u001b[0m in \u001b[0;36mpandas._libs.hashtable.Int64HashTable.get_item\u001b[0;34m()\u001b[0m\n",
            "\u001b[0;31mKeyError\u001b[0m: 0",
            "\nThe above exception was the direct cause of the following exception:\n",
            "\u001b[0;31mKeyError\u001b[0m                                  Traceback (most recent call last)",
            "\u001b[0;32m<ipython-input-38-9b28915a1893>\u001b[0m in \u001b[0;36m<cell line: 5>\u001b[0;34m()\u001b[0m\n\u001b[1;32m      6\u001b[0m     \u001b[0mplt\u001b[0m\u001b[0;34m.\u001b[0m\u001b[0msubplot\u001b[0m\u001b[0;34m(\u001b[0m\u001b[0;36m3\u001b[0m\u001b[0;34m,\u001b[0m \u001b[0;36m5\u001b[0m\u001b[0;34m,\u001b[0m \u001b[0mi\u001b[0m\u001b[0;34m+\u001b[0m\u001b[0;36m1\u001b[0m\u001b[0;34m)\u001b[0m\u001b[0;34m\u001b[0m\u001b[0;34m\u001b[0m\u001b[0m\n\u001b[1;32m      7\u001b[0m     \u001b[0mplt\u001b[0m\u001b[0;34m.\u001b[0m\u001b[0mimshow\u001b[0m\u001b[0;34m(\u001b[0m\u001b[0mX_test_90\u001b[0m\u001b[0;34m[\u001b[0m\u001b[0mi\u001b[0m\u001b[0;34m]\u001b[0m\u001b[0;34m.\u001b[0m\u001b[0mreshape\u001b[0m\u001b[0;34m(\u001b[0m\u001b[0;36m4\u001b[0m\u001b[0;34m,\u001b[0m \u001b[0;36m4\u001b[0m\u001b[0;34m)\u001b[0m\u001b[0;34m,\u001b[0m \u001b[0mcmap\u001b[0m\u001b[0;34m=\u001b[0m\u001b[0;34m'gray'\u001b[0m\u001b[0;34m)\u001b[0m  \u001b[0;31m# Menggunakan X_test_70[i] dan reshape citra menjadi (28, 28)\u001b[0m\u001b[0;34m\u001b[0m\u001b[0;34m\u001b[0m\u001b[0m\n\u001b[0;32m----> 8\u001b[0;31m     \u001b[0mplt\u001b[0m\u001b[0;34m.\u001b[0m\u001b[0mtitle\u001b[0m\u001b[0;34m(\u001b[0m\u001b[0;34mf\"True: {y_test_90[i]}\\nPred: { y_test_pred_gnb_90[i]}\"\u001b[0m\u001b[0;34m)\u001b[0m\u001b[0;34m\u001b[0m\u001b[0;34m\u001b[0m\u001b[0m\n\u001b[0m\u001b[1;32m      9\u001b[0m     \u001b[0mplt\u001b[0m\u001b[0;34m.\u001b[0m\u001b[0maxis\u001b[0m\u001b[0;34m(\u001b[0m\u001b[0;34m'off'\u001b[0m\u001b[0;34m)\u001b[0m\u001b[0;34m\u001b[0m\u001b[0;34m\u001b[0m\u001b[0m\n\u001b[1;32m     10\u001b[0m \u001b[0;34m\u001b[0m\u001b[0m\n",
            "\u001b[0;32m/usr/local/lib/python3.10/dist-packages/pandas/core/series.py\u001b[0m in \u001b[0;36m__getitem__\u001b[0;34m(self, key)\u001b[0m\n\u001b[1;32m    979\u001b[0m \u001b[0;34m\u001b[0m\u001b[0m\n\u001b[1;32m    980\u001b[0m         \u001b[0;32melif\u001b[0m \u001b[0mkey_is_scalar\u001b[0m\u001b[0;34m:\u001b[0m\u001b[0;34m\u001b[0m\u001b[0;34m\u001b[0m\u001b[0m\n\u001b[0;32m--> 981\u001b[0;31m             \u001b[0;32mreturn\u001b[0m \u001b[0mself\u001b[0m\u001b[0;34m.\u001b[0m\u001b[0m_get_value\u001b[0m\u001b[0;34m(\u001b[0m\u001b[0mkey\u001b[0m\u001b[0;34m)\u001b[0m\u001b[0;34m\u001b[0m\u001b[0;34m\u001b[0m\u001b[0m\n\u001b[0m\u001b[1;32m    982\u001b[0m \u001b[0;34m\u001b[0m\u001b[0m\n\u001b[1;32m    983\u001b[0m         \u001b[0;32mif\u001b[0m \u001b[0mis_hashable\u001b[0m\u001b[0;34m(\u001b[0m\u001b[0mkey\u001b[0m\u001b[0;34m)\u001b[0m\u001b[0;34m:\u001b[0m\u001b[0;34m\u001b[0m\u001b[0;34m\u001b[0m\u001b[0m\n",
            "\u001b[0;32m/usr/local/lib/python3.10/dist-packages/pandas/core/series.py\u001b[0m in \u001b[0;36m_get_value\u001b[0;34m(self, label, takeable)\u001b[0m\n\u001b[1;32m   1087\u001b[0m \u001b[0;34m\u001b[0m\u001b[0m\n\u001b[1;32m   1088\u001b[0m         \u001b[0;31m# Similar to Index.get_value, but we do not fall back to positional\u001b[0m\u001b[0;34m\u001b[0m\u001b[0;34m\u001b[0m\u001b[0m\n\u001b[0;32m-> 1089\u001b[0;31m         \u001b[0mloc\u001b[0m \u001b[0;34m=\u001b[0m \u001b[0mself\u001b[0m\u001b[0;34m.\u001b[0m\u001b[0mindex\u001b[0m\u001b[0;34m.\u001b[0m\u001b[0mget_loc\u001b[0m\u001b[0;34m(\u001b[0m\u001b[0mlabel\u001b[0m\u001b[0;34m)\u001b[0m\u001b[0;34m\u001b[0m\u001b[0;34m\u001b[0m\u001b[0m\n\u001b[0m\u001b[1;32m   1090\u001b[0m         \u001b[0;32mreturn\u001b[0m \u001b[0mself\u001b[0m\u001b[0;34m.\u001b[0m\u001b[0mindex\u001b[0m\u001b[0;34m.\u001b[0m\u001b[0m_get_values_for_loc\u001b[0m\u001b[0;34m(\u001b[0m\u001b[0mself\u001b[0m\u001b[0;34m,\u001b[0m \u001b[0mloc\u001b[0m\u001b[0;34m,\u001b[0m \u001b[0mlabel\u001b[0m\u001b[0;34m)\u001b[0m\u001b[0;34m\u001b[0m\u001b[0;34m\u001b[0m\u001b[0m\n\u001b[1;32m   1091\u001b[0m \u001b[0;34m\u001b[0m\u001b[0m\n",
            "\u001b[0;32m/usr/local/lib/python3.10/dist-packages/pandas/core/indexes/base.py\u001b[0m in \u001b[0;36mget_loc\u001b[0;34m(self, key, method, tolerance)\u001b[0m\n\u001b[1;32m   3802\u001b[0m                 \u001b[0;32mreturn\u001b[0m \u001b[0mself\u001b[0m\u001b[0;34m.\u001b[0m\u001b[0m_engine\u001b[0m\u001b[0;34m.\u001b[0m\u001b[0mget_loc\u001b[0m\u001b[0;34m(\u001b[0m\u001b[0mcasted_key\u001b[0m\u001b[0;34m)\u001b[0m\u001b[0;34m\u001b[0m\u001b[0;34m\u001b[0m\u001b[0m\n\u001b[1;32m   3803\u001b[0m             \u001b[0;32mexcept\u001b[0m \u001b[0mKeyError\u001b[0m \u001b[0;32mas\u001b[0m \u001b[0merr\u001b[0m\u001b[0;34m:\u001b[0m\u001b[0;34m\u001b[0m\u001b[0;34m\u001b[0m\u001b[0m\n\u001b[0;32m-> 3804\u001b[0;31m                 \u001b[0;32mraise\u001b[0m \u001b[0mKeyError\u001b[0m\u001b[0;34m(\u001b[0m\u001b[0mkey\u001b[0m\u001b[0;34m)\u001b[0m \u001b[0;32mfrom\u001b[0m \u001b[0merr\u001b[0m\u001b[0;34m\u001b[0m\u001b[0;34m\u001b[0m\u001b[0m\n\u001b[0m\u001b[1;32m   3805\u001b[0m             \u001b[0;32mexcept\u001b[0m \u001b[0mTypeError\u001b[0m\u001b[0;34m:\u001b[0m\u001b[0;34m\u001b[0m\u001b[0;34m\u001b[0m\u001b[0m\n\u001b[1;32m   3806\u001b[0m                 \u001b[0;31m# If we have a listlike key, _check_indexing_error will raise\u001b[0m\u001b[0;34m\u001b[0m\u001b[0;34m\u001b[0m\u001b[0m\n",
            "\u001b[0;31mKeyError\u001b[0m: 0"
          ]
        },
        {
          "output_type": "display_data",
          "data": {
            "text/plain": [
              "<Figure size 1200x600 with 1 Axes>"
            ],
            "image/png": "[encoded data removed]"
          },
          "metadata": {}
        }
      ]
    },
    {
      "cell_type": "markdown",
      "source": [
        "### 8. Apa model terbaik yang Anda dapatkan? Bagaimana konfigurasinya? Berapa tingkat akurasi yang didapatkan? Jelaskan!\n",
        "\n",
        "\n"
      ],
      "metadata": {
        "id": "rDg2M__4YZJG"
      }
    },
    {
      "cell_type": "markdown",
      "source": [
        "Disini memilih menggunakan model\n",
        "- algoritma Naive Bayes (Gaussian) dengan rasio 70:30 n-component 16\n",
        "  \n",
        "   ### nilai konfigurasinya:\n",
        "\n",
        "   data train dengan n-component 16 Naive Bayes (Gaussian): 81.9%\n",
        "\n",
        "   data test dengan n-component 16 Naive Bayes (Gaussian): 81.8%\n",
        "\n",
        "   ### tingkat akurasi data training dan data testing:\n",
        "\n",
        "   Hasil akurasi data train dengan n-component 16 Naive Bayes (Gaussian): 0.8197142857142857\n",
        "   \n",
        "   Hasil akurasi data test dengan n-component 16 Naive Bayes (Gaussian): 0.8187619047619048\n",
        "\n",
        "   ---\n",
        "- algoritma Naive Bayes (Gaussian) dengan rasio 80:40 n-component 16\n",
        "  \n",
        "   ### nilai konfigurasinya:\n",
        "\n",
        "   data train dengan n-component 16 Naive Bayes (Gaussian): 81.9%\n",
        "\n",
        "   data test dengan n-component 16 Naive Bayes (Gaussian): 82.1%\n",
        "\n",
        "   ### tingkat akurasi data training dan data testing:\n",
        "\n",
        "  Hasil akurasi data train dengan n-component 16 (Gaussian): 0.8193214285714285\n",
        "  \n",
        "  Hasil akurasi data test dengan n-component 16 (Gaussian): 0.821\n",
        "\n",
        "   ---\n",
        "- algoritma Naive Bayes (Gaussian) dengan rasio 90:10 n-component 16\n",
        "\n",
        "   ### nilai konfigurasinya:\n",
        "\n",
        "  data train dengan n-component 16 Naive Bayes (Gaussian): 81.9%\n",
        "\n",
        "   data test dengan n-component 16 Naive Bayes (Gaussian): 81.8%\n",
        "\n",
        "   ### tingkat akurasi data training dan data testing:\n",
        "\n",
        "  Hasil akurasi data train dengan n-component 16 (Gaussian): 0.819984126984127\n",
        "  \n",
        "  Hasil akurasi data test dengan n-component 16 (Gaussian): 0.8194285714285714\n",
        "   \n",
        "   ---\n",
        "- SVM dengan menggunakan n-component 16 dengan rasio asio 70:30\n",
        "\n",
        "   ### nilai konfigurasinya:\n",
        "\n",
        "  data train dengan n-component 16 Naive Bayes (Gaussian): 97.5%\n",
        "\n",
        "   data test dengan n-component 16 Naive Bayes (Gaussian): 86.7%\n",
        "\n",
        "   ### tingkat akurasi data training dan data testing:\n",
        "\n",
        "   Akurasi SVM pada Data Training: 0.9755918367346939\n",
        "   \n",
        "   Akurasi SVM pada Data Testing: 0.9678095238095238\n",
        "   \n",
        "   ---\n",
        "- SVM dengan menggunakan n-component 16 dengan rasio asio 80:20\n",
        "\n",
        "   ### nilai konfigurasinya:\n",
        "\n",
        "  data train dengan n-component 16 Naive Bayes (Gaussian): 97.6%\n",
        "\n",
        "   data test dengan n-component 16 Naive Bayes (Gaussian): 96.8%\n",
        "   ### tingkat akurasi data training dan data testing:\n",
        "\n",
        "   Akurasi SVM pada Data Training: 0.976375\n",
        "   \n",
        "   Akurasi SVM pada Data Testing: 0.9680714285714286\n",
        "   \n",
        "   ---\n",
        "- SVM dengan menggunakan n-component 16 dengan rasio asio 90:10\n",
        "\n",
        "   ### nilai konfigurasinya:\n",
        "\n",
        "   data train dengan n-component 16 Naive Bayes (Gaussian): 97.6%\n",
        "\n",
        "   data test dengan n-component 16 Naive Bayes (Gaussian): 96.6%\n",
        "\n",
        "   ### tingkat akurasi data training dan data testing:\n",
        "\n",
        "   Training Accuracy: 0.976920634920635\n",
        "   \n",
        "   Testing Accuracy: 0.9667142857142857\n",
        "   \n",
        "   ---\n",
        "\n",
        "   ### Kesimpulan\n",
        "\n",
        "   dari hasil percobaan tersebut model yang tingkat konfigurasi dan akurasi bagus ialah menggunakan model SVM dengan n-component 16 dan rasio pembagian 80:30."
      ],
      "metadata": {
        "id": "FoIP25GOYboi"
      }
    }
  ]
}